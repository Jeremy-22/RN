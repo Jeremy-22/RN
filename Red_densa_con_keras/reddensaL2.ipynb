{
 "cells": [
  {
   "cell_type": "code",
   "execution_count": 11,
   "metadata": {},
   "outputs": [],
   "source": [
    "import tensorflow as tf\n",
    "from tensorflow import keras\n",
    "from tensorflow.keras.datasets import mnist\n",
    "from tensorflow.keras.models import Sequential\n",
    "from tensorflow.keras.layers import Dense, Activation\n",
    "from tensorflow.keras.optimizers import SGD, Adam, RMSprop\n",
    "from tensorflow.keras import regularizers"
   ]
  },
  {
   "cell_type": "code",
   "execution_count": 12,
   "metadata": {},
   "outputs": [],
   "source": [
    "model_cargado = tf.keras.models.load_model('red.h5')"
   ]
  },
  {
   "cell_type": "code",
   "execution_count": 13,
   "metadata": {},
   "outputs": [
    {
     "name": "stdout",
     "output_type": "stream",
     "text": [
      "Model: \"sequential_1\"\n",
      "_________________________________________________________________\n",
      " Layer (type)                Output Shape              Param #   \n",
      "=================================================================\n",
      " dense_8 (Dense)             (None, 800)               628000    \n"
     ]
    },
    {
     "name": "stdout",
     "output_type": "stream",
     "text": [
      "                                                                 \n",
      " dense_9 (Dense)             (None, 400)               320400    \n",
      "                                                                 \n",
      " dense_10 (Dense)            (None, 200)               80200     \n",
      "                                                                 \n",
      " dense_11 (Dense)            (None, 10)                2010      \n",
      "                                                                 \n",
      "=================================================================\n",
      "Total params: 1030610 (3.93 MB)\n",
      "Trainable params: 1030610 (3.93 MB)\n",
      "Non-trainable params: 0 (0.00 Byte)\n",
      "_________________________________________________________________\n"
     ]
    }
   ],
   "source": [
    "model_cargado = Sequential()\n",
    "model_cargado.add(Dense(800, activation='sigmoid', kernel_regularizer='L2',input_shape=(784,)))\n",
    "model_cargado.add(Dense(400, activation='sigmoid', kernel_regularizer='L2'))\n",
    "model_cargado.add(Dense(200, activation='sigmoid', kernel_regularizer='L2'))\n",
    "model_cargado.add(Dense(10, activation='softmax'))\n",
    "model_cargado.summary()"
   ]
  },
  {
   "cell_type": "code",
   "execution_count": 14,
   "metadata": {},
   "outputs": [],
   "source": [
    "model_cargado.compile(loss='categorical_crossentropy', optimizer = Adam(), metrics = ['accuracy'])"
   ]
  },
  {
   "cell_type": "code",
   "execution_count": 15,
   "metadata": {},
   "outputs": [
    {
     "ename": "NameError",
     "evalue": "name 'x_trainv' is not defined",
     "output_type": "error",
     "traceback": [
      "\u001b[0;31m---------------------------------------------------------------------------\u001b[0m",
      "\u001b[0;31mNameError\u001b[0m                                 Traceback (most recent call last)",
      "\u001b[1;32m/Jeremy-22/RN/Red_densa_con_keras/reddensaL2.ipynb Celda 5\u001b[0m line \u001b[0;36m1\n\u001b[0;32m----> <a href='vscode-notebook-cell://github%2B7b2276223a312c22726566223a7b2274797065223a352c226964223a226d61696e227d7d/Jeremy-22/RN/Red_densa_con_keras/reddensaL2.ipynb#W5sdnNjb2RlLXZmcw%3D%3D?line=0'>1</a>\u001b[0m history \u001b[39m=\u001b[39m model_cargado\u001b[39m.\u001b[39mfit(x_trainv, y_trainc,\n\u001b[1;32m      <a href='vscode-notebook-cell://github%2B7b2276223a312c22726566223a7b2274797065223a352c226964223a226d61696e227d7d/Jeremy-22/RN/Red_densa_con_keras/reddensaL2.ipynb#W5sdnNjb2RlLXZmcw%3D%3D?line=1'>2</a>\u001b[0m                             bach_size\u001b[39m=\u001b[39m\u001b[39m100\u001b[39m,\n\u001b[1;32m      <a href='vscode-notebook-cell://github%2B7b2276223a312c22726566223a7b2274797065223a352c226964223a226d61696e227d7d/Jeremy-22/RN/Red_densa_con_keras/reddensaL2.ipynb#W5sdnNjb2RlLXZmcw%3D%3D?line=2'>3</a>\u001b[0m                             epochs\u001b[39m=\u001b[39m\u001b[39m50\u001b[39m,\n\u001b[1;32m      <a href='vscode-notebook-cell://github%2B7b2276223a312c22726566223a7b2274797065223a352c226964223a226d61696e227d7d/Jeremy-22/RN/Red_densa_con_keras/reddensaL2.ipynb#W5sdnNjb2RlLXZmcw%3D%3D?line=3'>4</a>\u001b[0m                             verbose\u001b[39m=\u001b[39m\u001b[39m1\u001b[39m,\n\u001b[1;32m      <a href='vscode-notebook-cell://github%2B7b2276223a312c22726566223a7b2274797065223a352c226964223a226d61696e227d7d/Jeremy-22/RN/Red_densa_con_keras/reddensaL2.ipynb#W5sdnNjb2RlLXZmcw%3D%3D?line=4'>5</a>\u001b[0m                             validation_data\u001b[39m=\u001b[39m(x_testv, y_testc))\n",
      "\u001b[0;31mNameError\u001b[0m: name 'x_trainv' is not defined"
     ]
    }
   ],
   "source": [
    "history = model_cargado.fit(x_trainv, y_trainc,\n",
    "                            bach_size=100,\n",
    "                            epochs=50,\n",
    "                            verbose=1,\n",
    "                            validation_data=(x_testv, y_testc))"
   ]
  }
 ],
 "metadata": {
  "kernelspec": {
   "display_name": "Python 3 (ipykernel)",
   "language": "python",
   "name": "python3"
  },
  "orig_nbformat": 4
 },
 "nbformat": 4,
 "nbformat_minor": 2
}
