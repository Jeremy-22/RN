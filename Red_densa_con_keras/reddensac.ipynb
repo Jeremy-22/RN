{
 "cells": [
  {
   "cell_type": "code",
   "execution_count": 1,
   "metadata": {},
   "outputs": [
    {
     "name": "stderr",
     "output_type": "stream",
     "text": [
      "2023-10-04 06:39:39.711524: I tensorflow/tsl/cuda/cudart_stub.cc:28] Could not find cuda drivers on your machine, GPU will not be used.\n",
      "2023-10-04 06:39:39.740048: E tensorflow/compiler/xla/stream_executor/cuda/cuda_dnn.cc:9342] Unable to register cuDNN factory: Attempting to register factory for plugin cuDNN when one has already been registered\n",
      "2023-10-04 06:39:39.740089: E tensorflow/compiler/xla/stream_executor/cuda/cuda_fft.cc:609] Unable to register cuFFT factory: Attempting to register factory for plugin cuFFT when one has already been registered\n",
      "2023-10-04 06:39:39.740106: E tensorflow/compiler/xla/stream_executor/cuda/cuda_blas.cc:1518] Unable to register cuBLAS factory: Attempting to register factory for plugin cuBLAS when one has already been registered\n",
      "2023-10-04 06:39:39.745238: I tensorflow/tsl/cuda/cudart_stub.cc:28] Could not find cuda drivers on your machine, GPU will not be used.\n",
      "2023-10-04 06:39:39.745975: I tensorflow/core/platform/cpu_feature_guard.cc:182] This TensorFlow binary is optimized to use available CPU instructions in performance-critical operations.\n",
      "To enable the following instructions: AVX2 FMA, in other operations, rebuild TensorFlow with the appropriate compiler flags.\n",
      "2023-10-04 06:39:40.550054: W tensorflow/compiler/tf2tensorrt/utils/py_utils.cc:38] TF-TRT Warning: Could not find TensorRT\n"
     ]
    }
   ],
   "source": [
    "import numpy as np\n",
    "import tensorflow as tf\n",
    "from tensorflow import keras\n",
    "from tensorflow.keras.datasets import mnist\n",
    "from keras.datasets import mnist\n",
    "from tensorflow.keras.models import Sequential\n",
    "from tensorflow.keras.layers import Dense, Activation\n",
    "from tensorflow.keras.optimizers import SGD, Adam, RMSprop\n",
    "from tensorflow.keras import regularizers"
   ]
  },
  {
   "cell_type": "code",
   "execution_count": 55,
   "metadata": {},
   "outputs": [],
   "source": [
    "learning_rate = 3.0\n",
    "epochs = 60"
   ]
  },
  {
   "cell_type": "code",
   "execution_count": 56,
   "metadata": {},
   "outputs": [],
   "source": [
    "dataset=mnist.load_data()\n",
    "(x_train, y_train), (x_test, y_test) = dataset"
   ]
  },
  {
   "cell_type": "code",
   "execution_count": 57,
   "metadata": {},
   "outputs": [],
   "source": [
    "x_trainv = x_train.reshape(60000, 784)\n",
    "x_testv = x_test.reshape(10000, 784)\n",
    "x_trainv = x_trainv.astype('float32')\n",
    "x_testv = x_testv.astype('float32')\n",
    "\n",
    "x_trainv /= 255 \n",
    "x_testv /= 255"
   ]
  },
  {
   "cell_type": "code",
   "execution_count": 58,
   "metadata": {},
   "outputs": [],
   "source": [
    "num_classes=10\n",
    "y_trainc = keras.utils.to_categorical(y_train, num_classes)\n",
    "y_testc = keras.utils.to_categorical(y_test, num_classes)"
   ]
  },
  {
   "cell_type": "code",
   "execution_count": 59,
   "metadata": {},
   "outputs": [
    {
     "name": "stdout",
     "output_type": "stream",
     "text": [
      "Model: \"sequential_11\"\n",
      "_________________________________________________________________\n",
      " Layer (type)                Output Shape              Param #   \n",
      "=================================================================\n",
      " dense_48 (Dense)            (None, 800)               628000    \n",
      "                                                                 \n",
      " dense_49 (Dense)            (None, 400)               320400    \n",
      "                                                                 \n",
      " dense_50 (Dense)            (None, 200)               80200     \n",
      "                                                                 \n",
      " dense_51 (Dense)            (None, 10)                2010      \n",
      "                                                                 \n",
      "=================================================================\n",
      "Total params: 1030610 (3.93 MB)\n",
      "Trainable params: 1030610 (3.93 MB)\n",
      "Non-trainable params: 0 (0.00 Byte)\n",
      "_________________________________________________________________\n"
     ]
    }
   ],
   "source": [
    "model = Sequential()\n",
    "model.add(Dense(800, activation='sigmoid', input_shape=(784,)))\n",
    "model.add(Dense(400, activation='sigmoid'))\n",
    "model.add(Dense(200, activation='sigmoid'))\n",
    "model.add(Dense(10, activation='softmax'))\n",
    "model.summary()"
   ]
  },
  {
   "cell_type": "code",
   "execution_count": 60,
   "metadata": {},
   "outputs": [],
   "source": [
    "model.compile(loss='categorical_crossentropy',optimizer=Adam(),metrics=['accuracy'])\n"
   ]
  },
  {
   "cell_type": "code",
   "execution_count": 61,
   "metadata": {},
   "outputs": [
    {
     "name": "stdout",
     "output_type": "stream",
     "text": [
      "Epoch 1/50\n"
     ]
    },
    {
     "name": "stdout",
     "output_type": "stream",
     "text": [
      "600/600 [==============================] - 5s 7ms/step - loss: 0.4849 - accuracy: 0.8551 - val_loss: 0.2193 - val_accuracy: 0.9336\n",
      "Epoch 2/50\n",
      "600/600 [==============================] - 4s 7ms/step - loss: 0.1841 - accuracy: 0.9444 - val_loss: 0.1566 - val_accuracy: 0.9506\n",
      "Epoch 3/50\n",
      "600/600 [==============================] - 4s 7ms/step - loss: 0.1268 - accuracy: 0.9625 - val_loss: 0.1242 - val_accuracy: 0.9630\n",
      "Epoch 4/50\n",
      "600/600 [==============================] - 4s 7ms/step - loss: 0.0959 - accuracy: 0.9711 - val_loss: 0.0920 - val_accuracy: 0.9714\n",
      "Epoch 5/50\n",
      "600/600 [==============================] - 4s 7ms/step - loss: 0.0724 - accuracy: 0.9777 - val_loss: 0.0802 - val_accuracy: 0.9741\n",
      "Epoch 6/50\n",
      "600/600 [==============================] - 4s 7ms/step - loss: 0.0569 - accuracy: 0.9824 - val_loss: 0.0928 - val_accuracy: 0.9712\n",
      "Epoch 7/50\n",
      "600/600 [==============================] - 4s 7ms/step - loss: 0.0454 - accuracy: 0.9858 - val_loss: 0.0754 - val_accuracy: 0.9767\n",
      "Epoch 8/50\n",
      "600/600 [==============================] - 4s 7ms/step - loss: 0.0353 - accuracy: 0.9889 - val_loss: 0.0827 - val_accuracy: 0.9750\n",
      "Epoch 9/50\n",
      "600/600 [==============================] - 4s 7ms/step - loss: 0.0275 - accuracy: 0.9912 - val_loss: 0.0674 - val_accuracy: 0.9804\n",
      "Epoch 10/50\n",
      "600/600 [==============================] - 4s 7ms/step - loss: 0.0231 - accuracy: 0.9927 - val_loss: 0.0953 - val_accuracy: 0.9722\n",
      "Epoch 11/50\n",
      "600/600 [==============================] - 4s 7ms/step - loss: 0.0183 - accuracy: 0.9942 - val_loss: 0.0758 - val_accuracy: 0.9793\n",
      "Epoch 12/50\n",
      "600/600 [==============================] - 4s 7ms/step - loss: 0.0170 - accuracy: 0.9942 - val_loss: 0.0824 - val_accuracy: 0.9779\n",
      "Epoch 13/50\n",
      "600/600 [==============================] - 4s 7ms/step - loss: 0.0133 - accuracy: 0.9958 - val_loss: 0.0750 - val_accuracy: 0.9807\n",
      "Epoch 14/50\n",
      "600/600 [==============================] - 4s 7ms/step - loss: 0.0102 - accuracy: 0.9968 - val_loss: 0.0808 - val_accuracy: 0.9801\n",
      "Epoch 15/50\n",
      "600/600 [==============================] - 4s 7ms/step - loss: 0.0109 - accuracy: 0.9964 - val_loss: 0.0902 - val_accuracy: 0.9788\n",
      "Epoch 16/50\n",
      "600/600 [==============================] - 4s 7ms/step - loss: 0.0084 - accuracy: 0.9974 - val_loss: 0.0777 - val_accuracy: 0.9807\n",
      "Epoch 17/50\n",
      "600/600 [==============================] - 4s 7ms/step - loss: 0.0085 - accuracy: 0.9972 - val_loss: 0.0816 - val_accuracy: 0.9813\n",
      "Epoch 18/50\n",
      "600/600 [==============================] - 4s 7ms/step - loss: 0.0070 - accuracy: 0.9978 - val_loss: 0.0884 - val_accuracy: 0.9801\n",
      "Epoch 19/50\n",
      "600/600 [==============================] - 4s 7ms/step - loss: 0.0083 - accuracy: 0.9969 - val_loss: 0.0949 - val_accuracy: 0.9796\n",
      "Epoch 20/50\n",
      "600/600 [==============================] - 4s 7ms/step - loss: 0.0051 - accuracy: 0.9984 - val_loss: 0.0810 - val_accuracy: 0.9833\n",
      "Epoch 21/50\n",
      "600/600 [==============================] - 4s 7ms/step - loss: 0.0050 - accuracy: 0.9984 - val_loss: 0.0889 - val_accuracy: 0.9813\n",
      "Epoch 22/50\n",
      "600/600 [==============================] - 4s 7ms/step - loss: 0.0061 - accuracy: 0.9980 - val_loss: 0.1097 - val_accuracy: 0.9778\n",
      "Epoch 23/50\n",
      "600/600 [==============================] - 4s 7ms/step - loss: 0.0054 - accuracy: 0.9980 - val_loss: 0.0911 - val_accuracy: 0.9815\n",
      "Epoch 24/50\n",
      "600/600 [==============================] - 4s 7ms/step - loss: 0.0058 - accuracy: 0.9981 - val_loss: 0.0919 - val_accuracy: 0.9819\n",
      "Epoch 25/50\n",
      "600/600 [==============================] - 4s 7ms/step - loss: 0.0027 - accuracy: 0.9992 - val_loss: 0.0889 - val_accuracy: 0.9838\n",
      "Epoch 26/50\n",
      "600/600 [==============================] - 4s 7ms/step - loss: 0.0020 - accuracy: 0.9995 - val_loss: 0.0959 - val_accuracy: 0.9801\n",
      "Epoch 27/50\n",
      "600/600 [==============================] - 4s 7ms/step - loss: 0.0066 - accuracy: 0.9979 - val_loss: 0.0962 - val_accuracy: 0.9824\n",
      "Epoch 28/50\n",
      "600/600 [==============================] - 4s 7ms/step - loss: 0.0023 - accuracy: 0.9993 - val_loss: 0.0942 - val_accuracy: 0.9817\n",
      "Epoch 29/50\n",
      "600/600 [==============================] - 4s 7ms/step - loss: 0.0083 - accuracy: 0.9974 - val_loss: 0.0922 - val_accuracy: 0.9820\n",
      "Epoch 30/50\n",
      "600/600 [==============================] - 4s 7ms/step - loss: 6.8699e-04 - accuracy: 0.9998 - val_loss: 0.0959 - val_accuracy: 0.9820\n",
      "Epoch 31/50\n",
      "600/600 [==============================] - 4s 7ms/step - loss: 0.0036 - accuracy: 0.9988 - val_loss: 0.0996 - val_accuracy: 0.9817\n",
      "Epoch 32/50\n",
      "600/600 [==============================] - 4s 7ms/step - loss: 0.0057 - accuracy: 0.9981 - val_loss: 0.1003 - val_accuracy: 0.9812\n",
      "Epoch 33/50\n",
      "600/600 [==============================] - 4s 7ms/step - loss: 0.0052 - accuracy: 0.9982 - val_loss: 0.0973 - val_accuracy: 0.9819\n",
      "Epoch 34/50\n",
      "600/600 [==============================] - 4s 7ms/step - loss: 0.0028 - accuracy: 0.9993 - val_loss: 0.0979 - val_accuracy: 0.9827\n",
      "Epoch 35/50\n",
      "600/600 [==============================] - 4s 7ms/step - loss: 0.0028 - accuracy: 0.9990 - val_loss: 0.0894 - val_accuracy: 0.9834\n",
      "Epoch 36/50\n",
      "600/600 [==============================] - 4s 7ms/step - loss: 0.0015 - accuracy: 0.9995 - val_loss: 0.0942 - val_accuracy: 0.9833\n",
      "Epoch 37/50\n",
      "600/600 [==============================] - 4s 7ms/step - loss: 0.0019 - accuracy: 0.9995 - val_loss: 0.0958 - val_accuracy: 0.9834\n",
      "Epoch 38/50\n",
      "600/600 [==============================] - 4s 7ms/step - loss: 1.6886e-04 - accuracy: 1.0000 - val_loss: 0.1020 - val_accuracy: 0.9833\n",
      "Epoch 39/50\n",
      "600/600 [==============================] - 4s 7ms/step - loss: 0.0014 - accuracy: 0.9997 - val_loss: 0.1248 - val_accuracy: 0.9789\n",
      "Epoch 40/50\n",
      "600/600 [==============================] - 4s 7ms/step - loss: 0.0079 - accuracy: 0.9974 - val_loss: 0.0983 - val_accuracy: 0.9820\n",
      "Epoch 41/50\n",
      "600/600 [==============================] - 4s 7ms/step - loss: 0.0028 - accuracy: 0.9990 - val_loss: 0.1014 - val_accuracy: 0.9819\n",
      "Epoch 42/50\n",
      "600/600 [==============================] - 4s 7ms/step - loss: 0.0015 - accuracy: 0.9995 - val_loss: 0.0960 - val_accuracy: 0.9835\n",
      "Epoch 43/50\n",
      "600/600 [==============================] - 4s 7ms/step - loss: 0.0018 - accuracy: 0.9993 - val_loss: 0.1130 - val_accuracy: 0.9816\n",
      "Epoch 44/50\n",
      "600/600 [==============================] - 4s 7ms/step - loss: 0.0024 - accuracy: 0.9994 - val_loss: 0.1091 - val_accuracy: 0.9821\n",
      "Epoch 45/50\n",
      "600/600 [==============================] - 4s 7ms/step - loss: 4.4087e-04 - accuracy: 0.9999 - val_loss: 0.0952 - val_accuracy: 0.9841\n",
      "Epoch 46/50\n",
      "600/600 [==============================] - 4s 7ms/step - loss: 9.6495e-04 - accuracy: 0.9997 - val_loss: 0.1011 - val_accuracy: 0.9839\n",
      "Epoch 47/50\n",
      "600/600 [==============================] - 4s 7ms/step - loss: 0.0043 - accuracy: 0.9987 - val_loss: 0.1347 - val_accuracy: 0.9770\n",
      "Epoch 48/50\n",
      "600/600 [==============================] - 4s 7ms/step - loss: 0.0055 - accuracy: 0.9982 - val_loss: 0.1052 - val_accuracy: 0.9822\n",
      "Epoch 49/50\n",
      "600/600 [==============================] - 4s 7ms/step - loss: 0.0013 - accuracy: 0.9996 - val_loss: 0.1042 - val_accuracy: 0.9829\n",
      "Epoch 50/50\n",
      "600/600 [==============================] - 4s 7ms/step - loss: 1.2297e-04 - accuracy: 1.0000 - val_loss: 0.1002 - val_accuracy: 0.9842\n"
     ]
    }
   ],
   "source": [
    "history = model.fit(x_trainv, y_trainc,\n",
    "                    batch_size=100,\n",
    "                    epochs=50,\n",
    "                    verbose=1,\n",
    "                    validation_data=(x_testv, y_testc))"
   ]
  },
  {
   "cell_type": "code",
   "execution_count": 62,
   "metadata": {},
   "outputs": [
    {
     "name": "stdout",
     "output_type": "stream",
     "text": [
      "313/313 [==============================] - 1s 2ms/step - loss: 0.1002 - accuracy: 0.9842\n",
      "[0.10018854588270187, 0.9842000007629395]\n",
      "313/313 [==============================] - 0s 1ms/step\n",
      "(10000, 10)\n",
      "[4.4202370e-10 2.8830453e-08 9.9999994e-01 3.5610481e-09 9.0669992e-11\n",
      " 1.1109489e-12 4.0405759e-11 1.5928696e-09 1.1690400e-08 1.9029385e-13]\n",
      "resultado correcto:\n",
      "[0. 0. 1. 0. 0. 0. 0. 0. 0. 0.]\n"
     ]
    }
   ],
   "source": [
    "score = model.evaluate(x_testv, y_testc, verbose=1) #evaluar la eficiencia del modelo\n",
    "print(score)\n",
    "a=model.predict(x_testv) #predicción de la red entrenada\n",
    "print(a.shape)\n",
    "print(a[1])\n",
    "print(\"resultado correcto:\")\n",
    "print(y_testc[1])"
   ]
  },
  {
   "cell_type": "code",
   "execution_count": 63,
   "metadata": {},
   "outputs": [
    {
     "name": "stderr",
     "output_type": "stream",
     "text": [
      "/usr/local/python/3.10.8/lib/python3.10/site-packages/keras/src/engine/training.py:3079: UserWarning: You are saving your model as an HDF5 file via `model.save()`. This file format is considered legacy. We recommend using instead the native Keras format, e.g. `model.save('my_model.keras')`.\n",
      "  saving_api.save_model(\n"
     ]
    }
   ],
   "source": [
    "model.save(\"red.h5\")"
   ]
  },
  {
   "cell_type": "code",
   "execution_count": 64,
   "metadata": {},
   "outputs": [],
   "source": [
    "model_cargado = tf.keras.models.load_model('red.h5')"
   ]
  },
  {
   "cell_type": "code",
   "execution_count": 68,
   "metadata": {},
   "outputs": [
    {
     "name": "stdout",
     "output_type": "stream",
     "text": [
      "Model: \"sequential_11\"\n",
      "_________________________________________________________________\n",
      " Layer (type)                Output Shape              Param #   \n",
      "=================================================================\n",
      " dense_48 (Dense)            (None, 800)               628000    \n",
      "                                                                 \n"
     ]
    },
    {
     "name": "stdout",
     "output_type": "stream",
     "text": [
      " dense_49 (Dense)            (None, 400)               320400    \n",
      "                                                                 \n",
      " dense_50 (Dense)            (None, 200)               80200     \n",
      "                                                                 \n",
      " dense_51 (Dense)            (None, 10)                2010      \n",
      "                                                                 \n",
      " dense_52 (Dense)            (None, 800)               8800      \n",
      "                                                                 \n",
      " dense_53 (Dense)            (None, 400)               320400    \n",
      "                                                                 \n",
      " dense_54 (Dense)            (None, 200)               80200     \n",
      "                                                                 \n",
      " dense_55 (Dense)            (None, 10)                2010      \n",
      "                                                                 \n",
      " dense_56 (Dense)            (None, 800)               8800      \n",
      "                                                                 \n",
      " dense_57 (Dense)            (None, 400)               320400    \n",
      "                                                                 \n",
      " dense_58 (Dense)            (None, 200)               80200     \n",
      "                                                                 \n",
      " dense_59 (Dense)            (None, 10)                2010      \n",
      "                                                                 \n",
      "=================================================================\n",
      "Total params: 1853430 (7.07 MB)\n",
      "Trainable params: 1853430 (7.07 MB)\n",
      "Non-trainable params: 0 (0.00 Byte)\n",
      "_________________________________________________________________\n"
     ]
    }
   ],
   "source": [
    "model_cargado.add(Dense(800, activation='sigmoid', kernel_regularizer='L1',input_shape=(784,)))\n",
    "model_cargado.add(Dense(400, activation='sigmoid', kernel_regularizer='L1'))\n",
    "model_cargado.add(Dense(200, activation='sigmoid', kernel_regularizer='L1'))\n",
    "model_cargado.add(Dense(10, activation='softmax'))\n",
    "model_cargado.summary()"
   ]
  },
  {
   "cell_type": "code",
   "execution_count": 69,
   "metadata": {},
   "outputs": [],
   "source": [
    "model.compile(loss='categorical_crossentropy',optimizer=Adam(),metrics=['accuracy'])\n"
   ]
  },
  {
   "cell_type": "code",
   "execution_count": 70,
   "metadata": {},
   "outputs": [
    {
     "name": "stdout",
     "output_type": "stream",
     "text": [
      "Epoch 1/10\n",
      "600/600 [==============================] - 5s 7ms/step - loss: 0.0031 - accuracy: 0.9991 - val_loss: 0.1200 - val_accuracy: 0.9828\n",
      "Epoch 2/10\n",
      "600/600 [==============================] - 4s 7ms/step - loss: 7.9281e-04 - accuracy: 0.9998 - val_loss: 0.1169 - val_accuracy: 0.9836\n",
      "Epoch 3/10\n",
      "600/600 [==============================] - 4s 7ms/step - loss: 0.0035 - accuracy: 0.9990 - val_loss: 0.1321 - val_accuracy: 0.9805\n",
      "Epoch 4/10\n",
      "600/600 [==============================] - 4s 7ms/step - loss: 0.0020 - accuracy: 0.9995 - val_loss: 0.1066 - val_accuracy: 0.9834\n",
      "Epoch 5/10\n",
      "600/600 [==============================] - 4s 7ms/step - loss: 8.3745e-04 - accuracy: 0.9998 - val_loss: 0.1099 - val_accuracy: 0.9834\n",
      "Epoch 6/10\n",
      "600/600 [==============================] - 4s 7ms/step - loss: 3.1091e-04 - accuracy: 0.9999 - val_loss: 0.1062 - val_accuracy: 0.9848\n",
      "Epoch 7/10\n",
      "600/600 [==============================] - 4s 7ms/step - loss: 1.4467e-05 - accuracy: 1.0000 - val_loss: 0.1063 - val_accuracy: 0.9850\n",
      "Epoch 8/10\n",
      "600/600 [==============================] - 4s 7ms/step - loss: 6.9726e-06 - accuracy: 1.0000 - val_loss: 0.1063 - val_accuracy: 0.9849\n",
      "Epoch 9/10\n",
      "600/600 [==============================] - 4s 7ms/step - loss: 5.4605e-06 - accuracy: 1.0000 - val_loss: 0.1065 - val_accuracy: 0.9850\n",
      "Epoch 10/10\n",
      "600/600 [==============================] - 4s 7ms/step - loss: 4.4323e-06 - accuracy: 1.0000 - val_loss: 0.1068 - val_accuracy: 0.9851\n"
     ]
    }
   ],
   "source": [
    "history = model.fit(x_trainv, y_trainc,\n",
    "                    batch_size=100,\n",
    "                    epochs=10,\n",
    "                    verbose=1,\n",
    "                    validation_data=(x_testv, y_testc))"
   ]
  },
  {
   "cell_type": "code",
   "execution_count": null,
   "metadata": {},
   "outputs": [],
   "source": []
  }
 ],
 "metadata": {
  "kernelspec": {
   "display_name": "Python 3 (ipykernel)",
   "language": "python",
   "name": "python3"
  },
  "language_info": {
   "codemirror_mode": {
    "name": "ipython",
    "version": 3
   },
   "file_extension": ".py",
   "mimetype": "text/x-python",
   "name": "python",
   "nbconvert_exporter": "python",
   "pygments_lexer": "ipython3",
   "version": "3.10.8"
  },
  "orig_nbformat": 4
 },
 "nbformat": 4,
 "nbformat_minor": 2
}
