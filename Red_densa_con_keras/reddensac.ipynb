{
 "cells": [
  {
   "cell_type": "code",
   "execution_count": 131,
   "metadata": {},
   "outputs": [],
   "source": [
    "import numpy as np\n",
    "import tensorflow as tf\n",
    "from tensorflow import keras\n",
    "from tensorflow.keras.datasets import mnist\n",
    "from keras.datasets import mnist\n",
    "from tensorflow.keras.models import Sequential\n",
    "from tensorflow.keras.layers import Dense, Activation, Input, Dropout\n",
    "from tensorflow.keras.optimizers import SGD, Adam, RMSprop\n",
    "from tensorflow.keras import regularizers"
   ]
  },
  {
   "cell_type": "code",
   "execution_count": 4,
   "metadata": {},
   "outputs": [],
   "source": [
    "learning_rate = 3.0\n",
    "epochs = 60"
   ]
  },
  {
   "cell_type": "code",
   "execution_count": 5,
   "metadata": {},
   "outputs": [],
   "source": [
    "dataset=mnist.load_data()\n",
    "(x_train, y_train), (x_test, y_test) = dataset"
   ]
  },
  {
   "cell_type": "code",
   "execution_count": 6,
   "metadata": {},
   "outputs": [],
   "source": [
    "x_trainv = x_train.reshape(60000, 784)\n",
    "x_testv = x_test.reshape(10000, 784)\n",
    "x_trainv = x_trainv.astype('float32')\n",
    "x_testv = x_testv.astype('float32')\n",
    "\n",
    "x_trainv /= 255 \n",
    "x_testv /= 255"
   ]
  },
  {
   "cell_type": "code",
   "execution_count": 7,
   "metadata": {},
   "outputs": [],
   "source": [
    "num_classes=10\n",
    "y_trainc = keras.utils.to_categorical(y_train, num_classes)\n",
    "y_testc = keras.utils.to_categorical(y_test, num_classes)"
   ]
  },
  {
   "cell_type": "code",
   "execution_count": 8,
   "metadata": {},
   "outputs": [
    {
     "name": "stdout",
     "output_type": "stream",
     "text": [
      "Model: \"sequential\"\n",
      "_________________________________________________________________\n",
      " Layer (type)                Output Shape              Param #   \n",
      "=================================================================\n",
      " dense (Dense)               (None, 800)               628000    \n",
      "                                                                 \n",
      " dense_1 (Dense)             (None, 400)               320400    \n",
      "                                                                 \n"
     ]
    },
    {
     "name": "stdout",
     "output_type": "stream",
     "text": [
      " dense_2 (Dense)             (None, 200)               80200     \n",
      "                                                                 \n",
      " dense_3 (Dense)             (None, 10)                2010      \n",
      "                                                                 \n",
      "=================================================================\n",
      "Total params: 1030610 (3.93 MB)\n",
      "Trainable params: 1030610 (3.93 MB)\n",
      "Non-trainable params: 0 (0.00 Byte)\n",
      "_________________________________________________________________\n"
     ]
    }
   ],
   "source": [
    "model = Sequential()\n",
    "model.add(Dense(800, activation='sigmoid', input_shape=(784,)))\n",
    "model.add(Dense(400, activation='sigmoid'))\n",
    "model.add(Dense(200, activation='sigmoid'))\n",
    "model.add(Dense(10, activation='softmax'))\n",
    "model.summary()"
   ]
  },
  {
   "cell_type": "code",
   "execution_count": 9,
   "metadata": {},
   "outputs": [],
   "source": [
    "model.compile(loss='categorical_crossentropy',optimizer=Adam(),metrics=['accuracy'])\n"
   ]
  },
  {
   "cell_type": "code",
   "execution_count": 26,
   "metadata": {},
   "outputs": [
    {
     "name": "stdout",
     "output_type": "stream",
     "text": [
      "Epoch 1/60\n",
      "600/600 [==============================] - 4s 7ms/step - loss: 0.0046 - accuracy: 0.9985 - val_loss: 0.1020 - val_accuracy: 0.9802\n",
      "Epoch 2/60\n",
      "600/600 [==============================] - 4s 7ms/step - loss: 0.0039 - accuracy: 0.9986 - val_loss: 0.1006 - val_accuracy: 0.9823\n",
      "Epoch 3/60\n",
      "600/600 [==============================] - 4s 7ms/step - loss: 0.0028 - accuracy: 0.9989 - val_loss: 0.0964 - val_accuracy: 0.9819\n",
      "Epoch 4/60\n",
      "600/600 [==============================] - 4s 6ms/step - loss: 0.0017 - accuracy: 0.9995 - val_loss: 0.1019 - val_accuracy: 0.9816\n",
      "Epoch 5/60\n",
      "600/600 [==============================] - 4s 7ms/step - loss: 0.0045 - accuracy: 0.9987 - val_loss: 0.0938 - val_accuracy: 0.9841\n",
      "Epoch 6/60\n",
      "600/600 [==============================] - 4s 6ms/step - loss: 0.0019 - accuracy: 0.9994 - val_loss: 0.1134 - val_accuracy: 0.9800\n",
      "Epoch 7/60\n",
      "600/600 [==============================] - 4s 7ms/step - loss: 0.0017 - accuracy: 0.9994 - val_loss: 0.1124 - val_accuracy: 0.9819\n",
      "Epoch 8/60\n",
      "600/600 [==============================] - 4s 7ms/step - loss: 0.0040 - accuracy: 0.9986 - val_loss: 0.0930 - val_accuracy: 0.9826\n",
      "Epoch 9/60\n",
      "600/600 [==============================] - 4s 6ms/step - loss: 0.0013 - accuracy: 0.9996 - val_loss: 0.0943 - val_accuracy: 0.9830\n",
      "Epoch 10/60\n",
      "600/600 [==============================] - 4s 6ms/step - loss: 0.0015 - accuracy: 0.9996 - val_loss: 0.1074 - val_accuracy: 0.9822\n",
      "Epoch 11/60\n",
      "600/600 [==============================] - 4s 7ms/step - loss: 0.0051 - accuracy: 0.9984 - val_loss: 0.1228 - val_accuracy: 0.9788\n",
      "Epoch 12/60\n",
      "600/600 [==============================] - 4s 6ms/step - loss: 0.0018 - accuracy: 0.9994 - val_loss: 0.0972 - val_accuracy: 0.9825\n",
      "Epoch 13/60\n",
      "600/600 [==============================] - 4s 7ms/step - loss: 0.0029 - accuracy: 0.9991 - val_loss: 0.1019 - val_accuracy: 0.9820\n",
      "Epoch 14/60\n",
      "600/600 [==============================] - 4s 7ms/step - loss: 0.0019 - accuracy: 0.9995 - val_loss: 0.1159 - val_accuracy: 0.9794\n",
      "Epoch 15/60\n",
      "600/600 [==============================] - 4s 7ms/step - loss: 0.0040 - accuracy: 0.9987 - val_loss: 0.1106 - val_accuracy: 0.9811\n",
      "Epoch 16/60\n",
      "600/600 [==============================] - 4s 7ms/step - loss: 6.9539e-04 - accuracy: 0.9998 - val_loss: 0.0991 - val_accuracy: 0.9821\n",
      "Epoch 17/60\n",
      "600/600 [==============================] - 4s 6ms/step - loss: 4.4416e-05 - accuracy: 1.0000 - val_loss: 0.0934 - val_accuracy: 0.9835\n",
      "Epoch 18/60\n",
      "600/600 [==============================] - 4s 7ms/step - loss: 1.6858e-05 - accuracy: 1.0000 - val_loss: 0.0943 - val_accuracy: 0.9835\n",
      "Epoch 19/60\n",
      "600/600 [==============================] - 4s 7ms/step - loss: 1.2773e-05 - accuracy: 1.0000 - val_loss: 0.0948 - val_accuracy: 0.9833\n",
      "Epoch 20/60\n",
      "600/600 [==============================] - 4s 7ms/step - loss: 9.8946e-06 - accuracy: 1.0000 - val_loss: 0.0954 - val_accuracy: 0.9834\n",
      "Epoch 21/60\n",
      "600/600 [==============================] - 4s 7ms/step - loss: 7.8428e-06 - accuracy: 1.0000 - val_loss: 0.0962 - val_accuracy: 0.9836\n",
      "Epoch 22/60\n",
      "600/600 [==============================] - 4s 7ms/step - loss: 6.2239e-06 - accuracy: 1.0000 - val_loss: 0.0969 - val_accuracy: 0.9836\n",
      "Epoch 23/60\n",
      "600/600 [==============================] - 4s 7ms/step - loss: 4.9322e-06 - accuracy: 1.0000 - val_loss: 0.0976 - val_accuracy: 0.9836\n",
      "Epoch 24/60\n",
      "600/600 [==============================] - 4s 7ms/step - loss: 3.9145e-06 - accuracy: 1.0000 - val_loss: 0.0984 - val_accuracy: 0.9836\n",
      "Epoch 25/60\n",
      "600/600 [==============================] - 4s 7ms/step - loss: 3.1043e-06 - accuracy: 1.0000 - val_loss: 0.0994 - val_accuracy: 0.9837\n",
      "Epoch 26/60\n",
      "600/600 [==============================] - 4s 7ms/step - loss: 2.4564e-06 - accuracy: 1.0000 - val_loss: 0.1001 - val_accuracy: 0.9839\n",
      "Epoch 27/60\n",
      "600/600 [==============================] - 4s 7ms/step - loss: 1.9522e-06 - accuracy: 1.0000 - val_loss: 0.1011 - val_accuracy: 0.9837\n",
      "Epoch 28/60\n",
      "600/600 [==============================] - 4s 7ms/step - loss: 1.5367e-06 - accuracy: 1.0000 - val_loss: 0.1020 - val_accuracy: 0.9837\n",
      "Epoch 29/60\n",
      "600/600 [==============================] - 4s 7ms/step - loss: 1.2156e-06 - accuracy: 1.0000 - val_loss: 0.1029 - val_accuracy: 0.9837\n",
      "Epoch 30/60\n",
      "600/600 [==============================] - 4s 7ms/step - loss: 9.5720e-07 - accuracy: 1.0000 - val_loss: 0.1041 - val_accuracy: 0.9837\n",
      "Epoch 31/60\n",
      "600/600 [==============================] - 4s 7ms/step - loss: 7.5397e-07 - accuracy: 1.0000 - val_loss: 0.1051 - val_accuracy: 0.9839\n",
      "Epoch 32/60\n",
      "600/600 [==============================] - 4s 7ms/step - loss: 5.9556e-07 - accuracy: 1.0000 - val_loss: 0.1062 - val_accuracy: 0.9842\n",
      "Epoch 33/60\n",
      "600/600 [==============================] - 4s 7ms/step - loss: 4.6840e-07 - accuracy: 1.0000 - val_loss: 0.1072 - val_accuracy: 0.9843\n",
      "Epoch 34/60\n",
      "600/600 [==============================] - 4s 7ms/step - loss: 3.7331e-07 - accuracy: 1.0000 - val_loss: 0.1085 - val_accuracy: 0.9845\n",
      "Epoch 35/60\n",
      "600/600 [==============================] - 4s 7ms/step - loss: 2.9385e-07 - accuracy: 1.0000 - val_loss: 0.1097 - val_accuracy: 0.9844\n",
      "Epoch 36/60\n",
      "600/600 [==============================] - 4s 7ms/step - loss: 2.3263e-07 - accuracy: 1.0000 - val_loss: 0.1108 - val_accuracy: 0.9845\n",
      "Epoch 37/60\n",
      "600/600 [==============================] - 4s 7ms/step - loss: 1.8409e-07 - accuracy: 1.0000 - val_loss: 0.1121 - val_accuracy: 0.9848\n",
      "Epoch 38/60\n",
      "600/600 [==============================] - 4s 7ms/step - loss: 1.4618e-07 - accuracy: 1.0000 - val_loss: 0.1134 - val_accuracy: 0.9848\n",
      "Epoch 39/60\n",
      "600/600 [==============================] - 4s 7ms/step - loss: 1.1718e-07 - accuracy: 1.0000 - val_loss: 0.1145 - val_accuracy: 0.9849\n",
      "Epoch 40/60\n",
      "600/600 [==============================] - 4s 6ms/step - loss: 9.4008e-08 - accuracy: 1.0000 - val_loss: 0.1159 - val_accuracy: 0.9849\n",
      "Epoch 41/60\n",
      "600/600 [==============================] - 4s 7ms/step - loss: 7.5956e-08 - accuracy: 1.0000 - val_loss: 0.1171 - val_accuracy: 0.9848\n",
      "Epoch 42/60\n",
      "600/600 [==============================] - 4s 7ms/step - loss: 6.2013e-08 - accuracy: 1.0000 - val_loss: 0.1184 - val_accuracy: 0.9848\n",
      "Epoch 43/60\n",
      "600/600 [==============================] - 4s 7ms/step - loss: 5.0996e-08 - accuracy: 1.0000 - val_loss: 0.1197 - val_accuracy: 0.9849\n",
      "Epoch 44/60\n",
      "600/600 [==============================] - 4s 7ms/step - loss: 4.2313e-08 - accuracy: 1.0000 - val_loss: 0.1206 - val_accuracy: 0.9850\n",
      "Epoch 45/60\n",
      "600/600 [==============================] - 4s 7ms/step - loss: 3.5405e-08 - accuracy: 1.0000 - val_loss: 0.1217 - val_accuracy: 0.9848\n",
      "Epoch 46/60\n",
      "600/600 [==============================] - 4s 7ms/step - loss: 2.9818e-08 - accuracy: 1.0000 - val_loss: 0.1228 - val_accuracy: 0.9849\n",
      "Epoch 47/60\n",
      "600/600 [==============================] - 4s 7ms/step - loss: 2.5543e-08 - accuracy: 1.0000 - val_loss: 0.1239 - val_accuracy: 0.9848\n",
      "Epoch 48/60\n",
      "600/600 [==============================] - 4s 7ms/step - loss: 2.2117e-08 - accuracy: 1.0000 - val_loss: 0.1246 - val_accuracy: 0.9850\n",
      "Epoch 49/60\n",
      "600/600 [==============================] - 4s 7ms/step - loss: 1.9344e-08 - accuracy: 1.0000 - val_loss: 0.1256 - val_accuracy: 0.9850\n",
      "Epoch 50/60\n",
      "600/600 [==============================] - 4s 7ms/step - loss: 1.6971e-08 - accuracy: 1.0000 - val_loss: 0.1262 - val_accuracy: 0.9848\n",
      "Epoch 51/60\n",
      "600/600 [==============================] - 4s 7ms/step - loss: 1.5150e-08 - accuracy: 1.0000 - val_loss: 0.1271 - val_accuracy: 0.9849\n",
      "Epoch 52/60\n",
      "600/600 [==============================] - 4s 7ms/step - loss: 1.3512e-08 - accuracy: 1.0000 - val_loss: 0.1277 - val_accuracy: 0.9848\n",
      "Epoch 53/60\n",
      "600/600 [==============================] - 4s 7ms/step - loss: 1.2239e-08 - accuracy: 1.0000 - val_loss: 0.1284 - val_accuracy: 0.9849\n",
      "Epoch 54/60\n",
      "600/600 [==============================] - 4s 7ms/step - loss: 1.1124e-08 - accuracy: 1.0000 - val_loss: 0.1290 - val_accuracy: 0.9849\n",
      "Epoch 55/60\n",
      "600/600 [==============================] - 4s 7ms/step - loss: 1.0202e-08 - accuracy: 1.0000 - val_loss: 0.1295 - val_accuracy: 0.9849\n",
      "Epoch 56/60\n",
      "600/600 [==============================] - 4s 7ms/step - loss: 9.3778e-09 - accuracy: 1.0000 - val_loss: 0.1299 - val_accuracy: 0.9849\n",
      "Epoch 57/60\n",
      "600/600 [==============================] - 4s 7ms/step - loss: 8.6725e-09 - accuracy: 1.0000 - val_loss: 0.1304 - val_accuracy: 0.9849\n",
      "Epoch 58/60\n",
      "600/600 [==============================] - 4s 7ms/step - loss: 8.0864e-09 - accuracy: 1.0000 - val_loss: 0.1309 - val_accuracy: 0.9849\n",
      "Epoch 59/60\n",
      "600/600 [==============================] - 4s 7ms/step - loss: 7.5757e-09 - accuracy: 1.0000 - val_loss: 0.1313 - val_accuracy: 0.9849\n",
      "Epoch 60/60\n",
      "600/600 [==============================] - 4s 7ms/step - loss: 7.1228e-09 - accuracy: 1.0000 - val_loss: 0.1316 - val_accuracy: 0.9850\n"
     ]
    }
   ],
   "source": [
    "history = model.fit(x_trainv, y_trainc,\n",
    "                    batch_size=100,\n",
    "                    epochs=60,\n",
    "                    verbose=1,\n",
    "                    validation_data=(x_testv, y_testc))"
   ]
  },
  {
   "cell_type": "code",
   "execution_count": 27,
   "metadata": {},
   "outputs": [
    {
     "name": "stdout",
     "output_type": "stream",
     "text": [
      "313/313 [==============================] - 0s 2ms/step - loss: 0.1316 - accuracy: 0.9850\n",
      "[0.13161922991275787, 0.9850000143051147]\n",
      "313/313 [==============================] - 0s 1ms/step\n",
      "(10000, 10)\n",
      "[1.12677439e-13 6.96237599e-12 9.99999940e-01 3.54307556e-12\n",
      " 9.29220554e-14 6.90141998e-17 3.64220610e-14 2.49541967e-12\n",
      " 1.15863395e-11 5.67396011e-19]\n",
      "resultado correcto:\n",
      "[0. 0. 1. 0. 0. 0. 0. 0. 0. 0.]\n"
     ]
    }
   ],
   "source": [
    "score = model.evaluate(x_testv, y_testc, verbose=1) #evaluar la eficiencia del modelo\n",
    "print(score)\n",
    "a=model.predict(x_testv) #predicción de la red entrenada\n",
    "print(a.shape)\n",
    "print(a[1])\n",
    "print(\"resultado correcto:\")\n",
    "print(y_testc[1])"
   ]
  },
  {
   "cell_type": "code",
   "execution_count": 28,
   "metadata": {},
   "outputs": [
    {
     "name": "stderr",
     "output_type": "stream",
     "text": [
      "/usr/local/python/3.10.8/lib/python3.10/site-packages/keras/src/engine/training.py:3079: UserWarning: You are saving your model as an HDF5 file via `model.save()`. This file format is considered legacy. We recommend using instead the native Keras format, e.g. `model.save('my_model.keras')`.\n",
      "  saving_api.save_model(\n"
     ]
    }
   ],
   "source": [
    "model.save(\"red.h5\")"
   ]
  },
  {
   "cell_type": "code",
   "execution_count": 96,
   "metadata": {},
   "outputs": [],
   "source": [
    "model_cargado = tf.keras.models.load_model('red.h5')"
   ]
  },
  {
   "cell_type": "code",
   "execution_count": 97,
   "metadata": {},
   "outputs": [
    {
     "name": "stdout",
     "output_type": "stream",
     "text": [
      "Model: \"sequential\"\n",
      "_________________________________________________________________\n",
      " Layer (type)                Output Shape              Param #   \n",
      "=================================================================\n",
      " dense (Dense)               (None, 800)               628000    \n",
      "                                                                 \n",
      " dense_1 (Dense)             (None, 400)               320400    \n",
      "                                                                 \n",
      " dense_2 (Dense)             (None, 200)               80200     \n",
      "                                                                 \n",
      " dense_3 (Dense)             (None, 10)                2010      \n",
      "                                                                 \n",
      " dense_77 (Dense)            (None, 800)               8800      \n",
      "                                                                 \n",
      " dense_78 (Dense)            (None, 400)               320400    \n",
      "                                                                 \n",
      " dense_79 (Dense)            (None, 200)               80200     \n",
      "                                                                 \n",
      " dense_80 (Dense)            (None, 10)                2010      \n",
      "                                                                 \n",
      "=================================================================\n",
      "Total params: 1442020 (5.50 MB)\n",
      "Trainable params: 1442020 (5.50 MB)\n",
      "Non-trainable params: 0 (0.00 Byte)\n",
      "_________________________________________________________________\n"
     ]
    }
   ],
   "source": [
    "#model_cargado.add(Dense(800, activation='sigmoid'))\n",
    "#model.add(Input(shape=(28,28)))\n",
    "model_cargado.add(Dense(800, activation='sigmoid', kernel_regularizer=regularizers.L1(0.01),input_shape=(784,)))\n",
    "model_cargado.add(Dense(400, activation='sigmoid', kernel_regularizer=regularizers.L1(0.01)))\n",
    "model_cargado.add(Dense(200, activation='sigmoid', kernel_regularizer=regularizers.L1(0.01)))\n",
    "model_cargado.add(Dense(10, activation='softmax'))\n",
    "model_cargado.summary()"
   ]
  },
  {
   "cell_type": "code",
   "execution_count": 98,
   "metadata": {},
   "outputs": [],
   "source": [
    "model_cargado.compile(loss='categorical_crossentropy',optimizer=Adam(),metrics=['accuracy'])\n"
   ]
  },
  {
   "cell_type": "code",
   "execution_count": 99,
   "metadata": {},
   "outputs": [
    {
     "name": "stdout",
     "output_type": "stream",
     "text": [
      "Epoch 1/20\n",
      "600/600 [==============================] - 7s 10ms/step - loss: 10.0084 - accuracy: 0.1039 - val_loss: 2.8038 - val_accuracy: 0.1028\n",
      "Epoch 2/20\n",
      "600/600 [==============================] - 6s 10ms/step - loss: 2.8076 - accuracy: 0.1054 - val_loss: 2.8077 - val_accuracy: 0.1135\n",
      "Epoch 3/20\n",
      "600/600 [==============================] - 6s 10ms/step - loss: 2.8061 - accuracy: 0.1022 - val_loss: 2.7959 - val_accuracy: 0.1009\n",
      "Epoch 4/20\n",
      "600/600 [==============================] - 6s 10ms/step - loss: 2.7997 - accuracy: 0.1030 - val_loss: 2.7938 - val_accuracy: 0.0974\n",
      "Epoch 5/20\n",
      "600/600 [==============================] - 6s 10ms/step - loss: 2.7959 - accuracy: 0.1024 - val_loss: 2.7894 - val_accuracy: 0.1010\n",
      "Epoch 6/20\n",
      "600/600 [==============================] - 6s 10ms/step - loss: 2.7926 - accuracy: 0.1064 - val_loss: 2.7902 - val_accuracy: 0.0958\n",
      "Epoch 7/20\n",
      "600/600 [==============================] - 6s 10ms/step - loss: 2.7878 - accuracy: 0.1047 - val_loss: 2.7900 - val_accuracy: 0.1135\n",
      "Epoch 8/20\n",
      "600/600 [==============================] - 6s 10ms/step - loss: 2.7852 - accuracy: 0.1032 - val_loss: 2.7854 - val_accuracy: 0.1032\n",
      "Epoch 9/20\n",
      "600/600 [==============================] - 6s 10ms/step - loss: 2.7815 - accuracy: 0.1036 - val_loss: 2.7786 - val_accuracy: 0.1028\n",
      "Epoch 10/20\n",
      "600/600 [==============================] - 6s 10ms/step - loss: 2.7772 - accuracy: 0.1055 - val_loss: 2.7787 - val_accuracy: 0.0958\n",
      "Epoch 11/20\n",
      "600/600 [==============================] - 6s 10ms/step - loss: 2.7737 - accuracy: 0.1060 - val_loss: 2.7708 - val_accuracy: 0.1135\n",
      "Epoch 12/20\n",
      "600/600 [==============================] - 6s 10ms/step - loss: 2.7706 - accuracy: 0.1022 - val_loss: 2.7769 - val_accuracy: 0.1009\n",
      "Epoch 13/20\n",
      "600/600 [==============================] - 6s 10ms/step - loss: 2.7712 - accuracy: 0.1047 - val_loss: 2.7793 - val_accuracy: 0.1135\n",
      "Epoch 14/20\n",
      "600/600 [==============================] - 6s 10ms/step - loss: 2.7714 - accuracy: 0.1065 - val_loss: 2.7674 - val_accuracy: 0.1028\n",
      "Epoch 15/20\n",
      "600/600 [==============================] - 6s 10ms/step - loss: 2.7725 - accuracy: 0.1049 - val_loss: 2.7674 - val_accuracy: 0.1009\n",
      "Epoch 16/20\n",
      "600/600 [==============================] - 6s 10ms/step - loss: 2.7721 - accuracy: 0.1052 - val_loss: 2.7714 - val_accuracy: 0.1009\n",
      "Epoch 17/20\n",
      "600/600 [==============================] - 6s 10ms/step - loss: 2.7725 - accuracy: 0.1034 - val_loss: 2.7696 - val_accuracy: 0.1135\n",
      "Epoch 18/20\n",
      "600/600 [==============================] - 6s 10ms/step - loss: 2.7740 - accuracy: 0.1039 - val_loss: 2.7697 - val_accuracy: 0.0982\n",
      "Epoch 19/20\n",
      "600/600 [==============================] - 6s 10ms/step - loss: 2.7741 - accuracy: 0.1048 - val_loss: 2.7704 - val_accuracy: 0.1135\n",
      "Epoch 20/20\n",
      "600/600 [==============================] - 6s 10ms/step - loss: 2.7741 - accuracy: 0.1046 - val_loss: 2.7762 - val_accuracy: 0.0974\n"
     ]
    }
   ],
   "source": [
    "history = model_cargado.fit(x_trainv, y_trainc,\n",
    "                    batch_size=100,\n",
    "                    epochs=20,\n",
    "                    verbose=1,\n",
    "                    validation_data=(x_testv, y_testc))"
   ]
  },
  {
   "cell_type": "code",
   "execution_count": 100,
   "metadata": {},
   "outputs": [
    {
     "name": "stdout",
     "output_type": "stream",
     "text": [
      "313/313 [==============================] - 1s 2ms/step - loss: 2.7762 - accuracy: 0.0974\n",
      "[2.7762255668640137, 0.09740000218153]\n",
      "313/313 [==============================] - 1s 2ms/step\n",
      "(10000, 10)\n",
      "[0.0849997  0.110884   0.11074723 0.1136461  0.10053072 0.09922662\n",
      " 0.08095418 0.09062009 0.11727525 0.09111614]\n",
      "resultado correcto:\n",
      "[0. 0. 1. 0. 0. 0. 0. 0. 0. 0.]\n"
     ]
    }
   ],
   "source": [
    "score = model_cargado.evaluate(x_testv, y_testc, verbose=1) #evaluar la eficiencia del modelo\n",
    "print(score)\n",
    "a=model_cargado.predict(x_testv) #predicción de la red entrenada\n",
    "print(a.shape)\n",
    "print(a[1])\n",
    "print(\"resultado correcto:\")\n",
    "print(y_testc[1])\n"
   ]
  },
  {
   "cell_type": "markdown",
   "metadata": {},
   "source": [
    "Se implenta el Regularizador L2\n"
   ]
  },
  {
   "cell_type": "code",
   "execution_count": 101,
   "metadata": {},
   "outputs": [],
   "source": [
    "modelo_c = tf.keras.models.load_model('red.h5')"
   ]
  },
  {
   "cell_type": "code",
   "execution_count": 102,
   "metadata": {},
   "outputs": [
    {
     "name": "stdout",
     "output_type": "stream",
     "text": [
      "Model: \"sequential\"\n",
      "_________________________________________________________________\n",
      " Layer (type)                Output Shape              Param #   \n",
      "=================================================================\n",
      " dense (Dense)               (None, 800)               628000    \n",
      "                                                                 \n",
      " dense_1 (Dense)             (None, 400)               320400    \n",
      "                                                                 \n",
      " dense_2 (Dense)             (None, 200)               80200     \n",
      "                                                                 \n",
      " dense_3 (Dense)             (None, 10)                2010      \n",
      "                                                                 \n",
      " dense_81 (Dense)            (None, 800)               8800      \n",
      "                                                                 \n",
      " dense_82 (Dense)            (None, 400)               320400    \n",
      "                                                                 \n",
      " dense_83 (Dense)            (None, 200)               80200     \n",
      "                                                                 \n",
      " dense_84 (Dense)            (None, 10)                2010      \n",
      "                                                                 \n",
      "=================================================================\n",
      "Total params: 1442020 (5.50 MB)\n",
      "Trainable params: 1442020 (5.50 MB)\n",
      "Non-trainable params: 0 (0.00 Byte)\n",
      "_________________________________________________________________\n"
     ]
    }
   ],
   "source": [
    "modelo_c.add(Dense(800, activation='sigmoid', kernel_regularizer=regularizers.L2(l2=1e-4),input_shape=(784,)))\n",
    "modelo_c.add(Dense(400, activation='sigmoid', kernel_regularizer=regularizers.L2(l2=1e-4)))\n",
    "modelo_c.add(Dense(200, activation='sigmoid', kernel_regularizer=regularizers.L2(l2=1e-4)))\n",
    "modelo_c.add(Dense(10, activation='softmax'))\n",
    "modelo_c.summary()"
   ]
  },
  {
   "cell_type": "code",
   "execution_count": 103,
   "metadata": {},
   "outputs": [],
   "source": [
    "modelo_c.compile(loss='categorical_crossentropy', optimizer = Adam(), metrics = ['accuracy'])"
   ]
  },
  {
   "cell_type": "code",
   "execution_count": 104,
   "metadata": {},
   "outputs": [
    {
     "name": "stdout",
     "output_type": "stream",
     "text": [
      "Epoch 1/20\n",
      "600/600 [==============================] - 7s 10ms/step - loss: 0.8017 - accuracy: 0.7980 - val_loss: 0.2520 - val_accuracy: 0.9850\n",
      "Epoch 2/20\n",
      "600/600 [==============================] - 6s 10ms/step - loss: 0.1307 - accuracy: 1.0000 - val_loss: 0.2057 - val_accuracy: 0.9849\n",
      "Epoch 3/20\n",
      "600/600 [==============================] - 6s 10ms/step - loss: 0.0957 - accuracy: 1.0000 - val_loss: 0.1852 - val_accuracy: 0.9849\n",
      "Epoch 4/20\n",
      "600/600 [==============================] - 6s 10ms/step - loss: 0.0773 - accuracy: 1.0000 - val_loss: 0.1732 - val_accuracy: 0.9849\n",
      "Epoch 5/20\n",
      "600/600 [==============================] - 6s 10ms/step - loss: 0.0656 - accuracy: 1.0000 - val_loss: 0.1659 - val_accuracy: 0.9850\n",
      "Epoch 6/20\n",
      "600/600 [==============================] - 6s 10ms/step - loss: 0.2411 - accuracy: 0.9782 - val_loss: 0.3113 - val_accuracy: 0.9845\n",
      "Epoch 7/20\n",
      "600/600 [==============================] - 6s 10ms/step - loss: 0.1014 - accuracy: 1.0000 - val_loss: 0.2062 - val_accuracy: 0.9848\n",
      "Epoch 8/20\n",
      "600/600 [==============================] - 6s 10ms/step - loss: 0.0765 - accuracy: 1.0000 - val_loss: 0.1852 - val_accuracy: 0.9848\n",
      "Epoch 9/20\n",
      "600/600 [==============================] - 6s 10ms/step - loss: 0.0646 - accuracy: 1.0000 - val_loss: 0.1722 - val_accuracy: 0.9848\n",
      "Epoch 10/20\n",
      "600/600 [==============================] - 6s 10ms/step - loss: 0.0571 - accuracy: 1.0000 - val_loss: 0.1624 - val_accuracy: 0.9848\n",
      "Epoch 11/20\n",
      "600/600 [==============================] - 6s 10ms/step - loss: 0.0525 - accuracy: 1.0000 - val_loss: 0.1585 - val_accuracy: 0.9848\n",
      "Epoch 12/20\n",
      "600/600 [==============================] - 6s 10ms/step - loss: 0.0495 - accuracy: 1.0000 - val_loss: 0.1573 - val_accuracy: 0.9848\n",
      "Epoch 13/20\n",
      "600/600 [==============================] - 6s 10ms/step - loss: 0.0470 - accuracy: 1.0000 - val_loss: 0.1548 - val_accuracy: 0.9848\n",
      "Epoch 14/20\n",
      "600/600 [==============================] - 6s 10ms/step - loss: 0.0447 - accuracy: 1.0000 - val_loss: 0.1543 - val_accuracy: 0.9848\n",
      "Epoch 15/20\n",
      "600/600 [==============================] - 6s 10ms/step - loss: 0.0424 - accuracy: 1.0000 - val_loss: 0.1528 - val_accuracy: 0.9848\n",
      "Epoch 16/20\n",
      "600/600 [==============================] - 6s 10ms/step - loss: 0.4246 - accuracy: 0.9703 - val_loss: 0.2141 - val_accuracy: 0.9849\n",
      "Epoch 17/20\n",
      "600/600 [==============================] - 6s 10ms/step - loss: 0.0807 - accuracy: 1.0000 - val_loss: 0.1900 - val_accuracy: 0.9849\n",
      "Epoch 18/20\n",
      "600/600 [==============================] - 6s 10ms/step - loss: 0.0636 - accuracy: 1.0000 - val_loss: 0.1721 - val_accuracy: 0.9849\n",
      "Epoch 19/20\n",
      "600/600 [==============================] - 6s 10ms/step - loss: 0.0533 - accuracy: 1.0000 - val_loss: 0.1616 - val_accuracy: 0.9848\n",
      "Epoch 20/20\n",
      "600/600 [==============================] - 6s 10ms/step - loss: 0.0472 - accuracy: 1.0000 - val_loss: 0.1566 - val_accuracy: 0.9848\n"
     ]
    }
   ],
   "source": [
    "history = modelo_c.fit(x_trainv, y_trainc,\n",
    "                    batch_size=100,\n",
    "                    epochs=20,\n",
    "                    verbose=1,\n",
    "                    validation_data=(x_testv, y_testc))"
   ]
  },
  {
   "cell_type": "code",
   "execution_count": 105,
   "metadata": {},
   "outputs": [
    {
     "name": "stdout",
     "output_type": "stream",
     "text": [
      "313/313 [==============================] - 1s 2ms/step - loss: 0.1566 - accuracy: 0.9848\n",
      "[0.15657688677310944, 0.9847999811172485]\n",
      "313/313 [==============================] - 1s 2ms/step\n",
      "(10000, 10)\n",
      "[1.7975469e-04 5.2857911e-04 9.9661165e-01 2.8051066e-04 2.4993028e-04\n",
      " 5.4565994e-08 3.4016452e-04 4.8565943e-04 7.3275267e-04 5.9087953e-04]\n",
      "resultado correcto:\n",
      "[0. 0. 1. 0. 0. 0. 0. 0. 0. 0.]\n"
     ]
    }
   ],
   "source": [
    "score = modelo_c.evaluate(x_testv, y_testc, verbose=1) #evaluar la eficiencia del modelo\n",
    "print(score)\n",
    "a=modelo_c.predict(x_testv) #predicción de la red entrenada\n",
    "print(a.shape)\n",
    "print(a[1])\n",
    "print(\"resultado correcto:\")\n",
    "print(y_testc[1])\n"
   ]
  },
  {
   "cell_type": "markdown",
   "metadata": {},
   "source": [
    "Implentacion de regularizador L1-L2"
   ]
  },
  {
   "cell_type": "code",
   "execution_count": 122,
   "metadata": {},
   "outputs": [],
   "source": [
    "model_ = tf.keras.models.load_model('red.h5')"
   ]
  },
  {
   "cell_type": "code",
   "execution_count": 123,
   "metadata": {},
   "outputs": [
    {
     "name": "stdout",
     "output_type": "stream",
     "text": [
      "Model: \"sequential\"\n",
      "_________________________________________________________________\n",
      " Layer (type)                Output Shape              Param #   \n",
      "=================================================================\n",
      " dense (Dense)               (None, 800)               628000    \n",
      "                                                                 \n",
      " dense_1 (Dense)             (None, 400)               320400    \n",
      "                                                                 \n",
      " dense_2 (Dense)             (None, 200)               80200     \n",
      "                                                                 \n",
      " dense_3 (Dense)             (None, 10)                2010      \n",
      "                                                                 \n",
      " dense_105 (Dense)           (None, 800)               8800      \n",
      "                                                                 \n",
      " dense_106 (Dense)           (None, 400)               320400    \n",
      "                                                                 \n",
      " dense_107 (Dense)           (None, 200)               80200     \n",
      "                                                                 \n",
      " dense_108 (Dense)           (None, 10)                2010      \n",
      "                                                                 \n",
      "=================================================================\n",
      "Total params: 1442020 (5.50 MB)\n",
      "Trainable params: 1442020 (5.50 MB)\n",
      "Non-trainable params: 0 (0.00 Byte)\n",
      "_________________________________________________________________\n"
     ]
    }
   ],
   "source": [
    "model_\n",
    "model_.add(Dense(800, activation='sigmoid', kernel_regularizer=regularizers.L1L2(l1=1e-5, l2=1e-4), input_shape=(784,)))\n",
    "model_.add(Dense(400, activation='sigmoid', kernel_regularizer=regularizers.L1L2(l1=1e-5, l2=1e-4)))\n",
    "model_.add(Dense(200, activation='sigmoid', kernel_regularizer=regularizers.L1L2(l1=1e-5,l2=1e-4)))\n",
    "model_.add(Dense(10, activation = 'softmax'))\n",
    "model_.summary()"
   ]
  },
  {
   "cell_type": "code",
   "execution_count": 124,
   "metadata": {},
   "outputs": [],
   "source": [
    "model_.compile(loss='categorical_crossentropy', optimizer=Adam(), metrics=['accuracy'])"
   ]
  },
  {
   "cell_type": "code",
   "execution_count": 125,
   "metadata": {},
   "outputs": [
    {
     "name": "stdout",
     "output_type": "stream",
     "text": [
      "Epoch 1/10\n"
     ]
    },
    {
     "name": "stdout",
     "output_type": "stream",
     "text": [
      "600/600 [==============================] - 7s 10ms/step - loss: 0.9280 - accuracy: 0.7987 - val_loss: 0.3691 - val_accuracy: 0.9850\n",
      "Epoch 2/10\n",
      "600/600 [==============================] - 6s 10ms/step - loss: 0.2275 - accuracy: 1.0000 - val_loss: 0.2940 - val_accuracy: 0.9847\n",
      "Epoch 3/10\n",
      "600/600 [==============================] - 6s 10ms/step - loss: 0.1699 - accuracy: 1.0000 - val_loss: 0.2543 - val_accuracy: 0.9847\n",
      "Epoch 4/10\n",
      "600/600 [==============================] - 6s 10ms/step - loss: 0.1338 - accuracy: 1.0000 - val_loss: 0.2267 - val_accuracy: 0.9847\n",
      "Epoch 5/10\n",
      "600/600 [==============================] - 6s 10ms/step - loss: 0.1080 - accuracy: 1.0000 - val_loss: 0.2074 - val_accuracy: 0.9848\n",
      "Epoch 6/10\n",
      "600/600 [==============================] - 6s 10ms/step - loss: 0.0903 - accuracy: 1.0000 - val_loss: 0.1956 - val_accuracy: 0.9848\n",
      "Epoch 7/10\n",
      "600/600 [==============================] - 6s 10ms/step - loss: 0.0785 - accuracy: 1.0000 - val_loss: 0.1871 - val_accuracy: 0.9848\n",
      "Epoch 8/10\n",
      "600/600 [==============================] - 6s 10ms/step - loss: 0.0702 - accuracy: 1.0000 - val_loss: 0.1842 - val_accuracy: 0.9848\n",
      "Epoch 9/10\n",
      "600/600 [==============================] - 6s 10ms/step - loss: 0.0635 - accuracy: 1.0000 - val_loss: 0.1787 - val_accuracy: 0.9847\n",
      "Epoch 10/10\n",
      "600/600 [==============================] - 6s 10ms/step - loss: 0.0580 - accuracy: 1.0000 - val_loss: 0.1762 - val_accuracy: 0.9850\n"
     ]
    }
   ],
   "source": [
    "history = model_.fit(x_trainv, y_trainc,\n",
    "                     batch_size=100,\n",
    "                     epochs=10,\n",
    "                     verbose=1,\n",
    "                     validation_data=(x_testv, y_testc))"
   ]
  },
  {
   "cell_type": "code",
   "execution_count": 128,
   "metadata": {},
   "outputs": [
    {
     "name": "stdout",
     "output_type": "stream",
     "text": [
      " 24/313 [=>............................] - ETA: 0s - loss: 0.2025 - accuracy: 0.9844"
     ]
    },
    {
     "name": "stdout",
     "output_type": "stream",
     "text": [
      "313/313 [==============================] - 1s 2ms/step - loss: 0.1762 - accuracy: 0.9850\n",
      "[0.17622146010398865, 0.9850000143051147]\n",
      "313/313 [==============================] - 1s 2ms/step\n",
      "(10000, 10)\n",
      "[3.0444068e-07 9.3572304e-08 9.9597293e-01 5.7606352e-04 1.5724913e-04\n",
      " 3.6220526e-04 2.2303744e-04 7.0544850e-04 7.3996460e-04 1.2626897e-03]\n",
      "resultado correcto\n",
      "[0. 0. 1. 0. 0. 0. 0. 0. 0. 0.]\n"
     ]
    }
   ],
   "source": [
    "score = model_.evaluate(x_testv, y_testc ,verbose=1 )\n",
    "print(score)\n",
    "a=model_.predict(x_testv)\n",
    "print(a.shape)\n",
    "print(a[1])\n",
    "print('resultado correcto')\n",
    "print(y_testc[1])"
   ]
  },
  {
   "cell_type": "markdown",
   "metadata": {},
   "source": [
    "Implementacion de Dropuot con L1-L2"
   ]
  },
  {
   "cell_type": "code",
   "execution_count": 201,
   "metadata": {},
   "outputs": [],
   "source": [
    "model_DL=tf.keras.models.load_model('red.h5')"
   ]
  },
  {
   "cell_type": "code",
   "execution_count": 202,
   "metadata": {},
   "outputs": [
    {
     "name": "stdout",
     "output_type": "stream",
     "text": [
      "Model: \"sequential\"\n",
      "_________________________________________________________________\n",
      " Layer (type)                Output Shape              Param #   \n",
      "=================================================================\n",
      " dense (Dense)               (None, 800)               628000    \n",
      "                                                                 \n",
      " dense_1 (Dense)             (None, 400)               320400    \n",
      "                                                                 \n",
      " dense_2 (Dense)             (None, 200)               80200     \n",
      "                                                                 \n",
      " dense_3 (Dense)             (None, 10)                2010      \n",
      "                                                                 \n",
      " dense_212 (Dense)           (None, 800)               8800      \n",
      "                                                                 \n",
      " dropout_23 (Dropout)        (None, 800)               0         \n",
      "                                                                 \n",
      " dense_213 (Dense)           (None, 400)               320400    \n",
      "                                                                 \n",
      " dense_214 (Dense)           (None, 200)               80200     \n",
      "                                                                 \n",
      " dense_215 (Dense)           (None, 10)                2010      \n",
      "                                                                 \n",
      "=================================================================\n",
      "Total params: 1442020 (5.50 MB)\n",
      "Trainable params: 1442020 (5.50 MB)\n",
      "Non-trainable params: 0 (0.00 Byte)\n",
      "_________________________________________________________________\n"
     ]
    }
   ],
   "source": [
    "model_DL\n",
    "model_DL.add(Dense(800, activation='sigmoid', kernel_regularizer=regularizers.L1L2(l1=1e-5, l2=1e-4), \n",
    "                 input_shape=(784,)))\n",
    "model_DL.add(Dropout(0.5))\n",
    "model_DL.add(Dense(400, activation='sigmoid', kernel_regularizer=regularizers.L1L2(l1=1e-5, l2=1e-4)))\n",
    "model_DL.add(Dense(200, activation='sigmoid', kernel_regularizer=regularizers.L1L2(l1=1e-5,l2=1e-4)))\n",
    "model_DL.add(Dense(10, activation = 'softmax'))\n",
    "model_DL.summary()"
   ]
  },
  {
   "cell_type": "code",
   "execution_count": 203,
   "metadata": {},
   "outputs": [],
   "source": [
    "model_DL.compile(loss='categorical_crossentropy', optimizer=Adam(), metrics=['accuracy'])"
   ]
  },
  {
   "cell_type": "code",
   "execution_count": 204,
   "metadata": {},
   "outputs": [
    {
     "name": "stdout",
     "output_type": "stream",
     "text": [
      "Epoch 1/10\n",
      "600/600 [==============================] - 7s 10ms/step - loss: 1.1211 - accuracy: 0.7451 - val_loss: 0.4583 - val_accuracy: 0.9848\n",
      "Epoch 2/10\n",
      "600/600 [==============================] - 6s 10ms/step - loss: 0.3403 - accuracy: 0.9964 - val_loss: 0.4002 - val_accuracy: 0.9848\n",
      "Epoch 3/10\n",
      "600/600 [==============================] - 6s 10ms/step - loss: 0.2855 - accuracy: 0.9969 - val_loss: 0.3749 - val_accuracy: 0.9849\n",
      "Epoch 4/10\n",
      "600/600 [==============================] - 6s 10ms/step - loss: 0.2562 - accuracy: 0.9962 - val_loss: 0.3615 - val_accuracy: 0.9850\n",
      "Epoch 5/10\n",
      "600/600 [==============================] - 6s 10ms/step - loss: 0.2339 - accuracy: 0.9964 - val_loss: 0.3465 - val_accuracy: 0.9848\n",
      "Epoch 6/10\n",
      "600/600 [==============================] - 6s 10ms/step - loss: 0.2184 - accuracy: 0.9958 - val_loss: 0.3325 - val_accuracy: 0.9848\n",
      "Epoch 7/10\n",
      "600/600 [==============================] - 6s 10ms/step - loss: 0.2028 - accuracy: 0.9963 - val_loss: 0.3252 - val_accuracy: 0.9850\n",
      "Epoch 8/10\n",
      "600/600 [==============================] - 6s 10ms/step - loss: 0.1939 - accuracy: 0.9955 - val_loss: 0.3277 - val_accuracy: 0.9845\n",
      "Epoch 9/10\n",
      "600/600 [==============================] - 6s 10ms/step - loss: 0.1840 - accuracy: 0.9958 - val_loss: 0.3265 - val_accuracy: 0.9847\n",
      "Epoch 10/10\n",
      "600/600 [==============================] - 6s 10ms/step - loss: 0.1758 - accuracy: 0.9964 - val_loss: 0.3161 - val_accuracy: 0.9847\n"
     ]
    }
   ],
   "source": [
    "history = model_DL.fit(x_trainv, y_trainc,\n",
    "                        batch_size=100,\n",
    "                        epochs=10,\n",
    "                        verbose=1,\n",
    "                        validation_data=(x_testv, y_testc))"
   ]
  },
  {
   "cell_type": "code",
   "execution_count": 205,
   "metadata": {},
   "outputs": [
    {
     "name": "stdout",
     "output_type": "stream",
     "text": [
      "313/313 [==============================] - 1s 2ms/step - loss: 0.3161 - accuracy: 0.9847\n",
      "[0.3161310851573944, 0.9847000241279602]\n",
      "313/313 [==============================] - 1s 2ms/step\n",
      "(10000, 10)\n",
      "[5.0035913e-05 4.9199381e-05 9.9954855e-01 6.5272383e-09 1.0071915e-05\n",
      " 3.5859219e-05 5.8815029e-05 2.4013767e-05 3.8046221e-07 2.2314547e-04]\n",
      "resultado corrcto\n",
      "[0. 0. 1. 0. 0. 0. 0. 0. 0. 0.]\n"
     ]
    }
   ],
   "source": [
    "score = model_DL.evaluate(x_testv, y_testc, verbose=1)\n",
    "print(score)\n",
    "a=model_DL.predict(x_testv)\n",
    "print(a.shape)\n",
    "print(a[1])\n",
    "print('resultado corrcto')\n",
    "print(y_testc[1])"
   ]
  }
 ],
 "metadata": {
  "kernelspec": {
   "display_name": "Python 3 (ipykernel)",
   "language": "python",
   "name": "python3"
  },
  "language_info": {
   "codemirror_mode": {
    "name": "ipython",
    "version": 3
   },
   "file_extension": ".py",
   "mimetype": "text/x-python",
   "name": "python",
   "nbconvert_exporter": "python",
   "pygments_lexer": "ipython3",
   "version": "3.10.8"
  },
  "orig_nbformat": 4
 },
 "nbformat": 4,
 "nbformat_minor": 2
}
