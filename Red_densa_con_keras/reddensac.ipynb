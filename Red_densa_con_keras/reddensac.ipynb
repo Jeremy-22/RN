{
 "cells": [
  {
   "cell_type": "code",
   "execution_count": 56,
   "metadata": {},
   "outputs": [],
   "source": [
    "import numpy as np\n",
    "import tensorflow as tf\n",
    "from tensorflow import keras\n",
    "from tensorflow.keras.datasets import mnist\n",
    "from keras.datasets import mnist\n",
    "from tensorflow.keras.models import Sequential\n",
    "from tensorflow.keras.layers import Dense, Activation, Input, Dropout\n",
    "from tensorflow.keras.optimizers import SGD, Adam, RMSprop\n",
    "from tensorflow.keras import regularizers"
   ]
  },
  {
   "cell_type": "code",
   "execution_count": 4,
   "metadata": {},
   "outputs": [],
   "source": [
    "learning_rate = 3.0\n",
    "epochs = 60"
   ]
  },
  {
   "cell_type": "code",
   "execution_count": 5,
   "metadata": {},
   "outputs": [],
   "source": [
    "dataset=mnist.load_data()\n",
    "(x_train, y_train), (x_test, y_test) = dataset"
   ]
  },
  {
   "cell_type": "code",
   "execution_count": 6,
   "metadata": {},
   "outputs": [],
   "source": [
    "x_trainv = x_train.reshape(60000, 784)\n",
    "x_testv = x_test.reshape(10000, 784)\n",
    "x_trainv = x_trainv.astype('float32')\n",
    "x_testv = x_testv.astype('float32')\n",
    "\n",
    "x_trainv /= 255 \n",
    "x_testv /= 255"
   ]
  },
  {
   "cell_type": "code",
   "execution_count": 7,
   "metadata": {},
   "outputs": [],
   "source": [
    "num_classes=10\n",
    "y_trainc = keras.utils.to_categorical(y_train, num_classes)\n",
    "y_testc = keras.utils.to_categorical(y_test, num_classes)"
   ]
  },
  {
   "cell_type": "code",
   "execution_count": 8,
   "metadata": {},
   "outputs": [
    {
     "name": "stdout",
     "output_type": "stream",
     "text": [
      "Model: \"sequential\"\n",
      "_________________________________________________________________\n",
      " Layer (type)                Output Shape              Param #   \n",
      "=================================================================\n",
      " dense (Dense)               (None, 800)               628000    \n",
      "                                                                 \n",
      " dense_1 (Dense)             (None, 400)               320400    \n",
      "                                                                 \n"
     ]
    },
    {
     "name": "stdout",
     "output_type": "stream",
     "text": [
      " dense_2 (Dense)             (None, 200)               80200     \n",
      "                                                                 \n",
      " dense_3 (Dense)             (None, 10)                2010      \n",
      "                                                                 \n",
      "=================================================================\n",
      "Total params: 1030610 (3.93 MB)\n",
      "Trainable params: 1030610 (3.93 MB)\n",
      "Non-trainable params: 0 (0.00 Byte)\n",
      "_________________________________________________________________\n"
     ]
    }
   ],
   "source": [
    "model = Sequential()\n",
    "model.add(Dense(800, activation='sigmoid', input_shape=(784,)))\n",
    "model.add(Dense(400, activation='sigmoid'))\n",
    "model.add(Dense(200, activation='sigmoid'))\n",
    "model.add(Dense(10, activation='softmax'))\n",
    "model.summary()"
   ]
  },
  {
   "cell_type": "code",
   "execution_count": 9,
   "metadata": {},
   "outputs": [],
   "source": [
    "model.compile(loss='categorical_crossentropy',optimizer=Adam(),metrics=['accuracy'])\n"
   ]
  },
  {
   "cell_type": "code",
   "execution_count": 26,
   "metadata": {},
   "outputs": [
    {
     "name": "stdout",
     "output_type": "stream",
     "text": [
      "Epoch 1/60\n",
      "600/600 [==============================] - 4s 7ms/step - loss: 0.0046 - accuracy: 0.9985 - val_loss: 0.1020 - val_accuracy: 0.9802\n",
      "Epoch 2/60\n",
      "600/600 [==============================] - 4s 7ms/step - loss: 0.0039 - accuracy: 0.9986 - val_loss: 0.1006 - val_accuracy: 0.9823\n",
      "Epoch 3/60\n",
      "600/600 [==============================] - 4s 7ms/step - loss: 0.0028 - accuracy: 0.9989 - val_loss: 0.0964 - val_accuracy: 0.9819\n",
      "Epoch 4/60\n",
      "600/600 [==============================] - 4s 6ms/step - loss: 0.0017 - accuracy: 0.9995 - val_loss: 0.1019 - val_accuracy: 0.9816\n",
      "Epoch 5/60\n",
      "600/600 [==============================] - 4s 7ms/step - loss: 0.0045 - accuracy: 0.9987 - val_loss: 0.0938 - val_accuracy: 0.9841\n",
      "Epoch 6/60\n",
      "600/600 [==============================] - 4s 6ms/step - loss: 0.0019 - accuracy: 0.9994 - val_loss: 0.1134 - val_accuracy: 0.9800\n",
      "Epoch 7/60\n",
      "600/600 [==============================] - 4s 7ms/step - loss: 0.0017 - accuracy: 0.9994 - val_loss: 0.1124 - val_accuracy: 0.9819\n",
      "Epoch 8/60\n",
      "600/600 [==============================] - 4s 7ms/step - loss: 0.0040 - accuracy: 0.9986 - val_loss: 0.0930 - val_accuracy: 0.9826\n",
      "Epoch 9/60\n",
      "600/600 [==============================] - 4s 6ms/step - loss: 0.0013 - accuracy: 0.9996 - val_loss: 0.0943 - val_accuracy: 0.9830\n",
      "Epoch 10/60\n",
      "600/600 [==============================] - 4s 6ms/step - loss: 0.0015 - accuracy: 0.9996 - val_loss: 0.1074 - val_accuracy: 0.9822\n",
      "Epoch 11/60\n",
      "600/600 [==============================] - 4s 7ms/step - loss: 0.0051 - accuracy: 0.9984 - val_loss: 0.1228 - val_accuracy: 0.9788\n",
      "Epoch 12/60\n",
      "600/600 [==============================] - 4s 6ms/step - loss: 0.0018 - accuracy: 0.9994 - val_loss: 0.0972 - val_accuracy: 0.9825\n",
      "Epoch 13/60\n",
      "600/600 [==============================] - 4s 7ms/step - loss: 0.0029 - accuracy: 0.9991 - val_loss: 0.1019 - val_accuracy: 0.9820\n",
      "Epoch 14/60\n",
      "600/600 [==============================] - 4s 7ms/step - loss: 0.0019 - accuracy: 0.9995 - val_loss: 0.1159 - val_accuracy: 0.9794\n",
      "Epoch 15/60\n",
      "600/600 [==============================] - 4s 7ms/step - loss: 0.0040 - accuracy: 0.9987 - val_loss: 0.1106 - val_accuracy: 0.9811\n",
      "Epoch 16/60\n",
      "600/600 [==============================] - 4s 7ms/step - loss: 6.9539e-04 - accuracy: 0.9998 - val_loss: 0.0991 - val_accuracy: 0.9821\n",
      "Epoch 17/60\n",
      "600/600 [==============================] - 4s 6ms/step - loss: 4.4416e-05 - accuracy: 1.0000 - val_loss: 0.0934 - val_accuracy: 0.9835\n",
      "Epoch 18/60\n",
      "600/600 [==============================] - 4s 7ms/step - loss: 1.6858e-05 - accuracy: 1.0000 - val_loss: 0.0943 - val_accuracy: 0.9835\n",
      "Epoch 19/60\n",
      "600/600 [==============================] - 4s 7ms/step - loss: 1.2773e-05 - accuracy: 1.0000 - val_loss: 0.0948 - val_accuracy: 0.9833\n",
      "Epoch 20/60\n",
      "600/600 [==============================] - 4s 7ms/step - loss: 9.8946e-06 - accuracy: 1.0000 - val_loss: 0.0954 - val_accuracy: 0.9834\n",
      "Epoch 21/60\n",
      "600/600 [==============================] - 4s 7ms/step - loss: 7.8428e-06 - accuracy: 1.0000 - val_loss: 0.0962 - val_accuracy: 0.9836\n",
      "Epoch 22/60\n",
      "600/600 [==============================] - 4s 7ms/step - loss: 6.2239e-06 - accuracy: 1.0000 - val_loss: 0.0969 - val_accuracy: 0.9836\n",
      "Epoch 23/60\n",
      "600/600 [==============================] - 4s 7ms/step - loss: 4.9322e-06 - accuracy: 1.0000 - val_loss: 0.0976 - val_accuracy: 0.9836\n",
      "Epoch 24/60\n",
      "600/600 [==============================] - 4s 7ms/step - loss: 3.9145e-06 - accuracy: 1.0000 - val_loss: 0.0984 - val_accuracy: 0.9836\n",
      "Epoch 25/60\n",
      "600/600 [==============================] - 4s 7ms/step - loss: 3.1043e-06 - accuracy: 1.0000 - val_loss: 0.0994 - val_accuracy: 0.9837\n",
      "Epoch 26/60\n",
      "600/600 [==============================] - 4s 7ms/step - loss: 2.4564e-06 - accuracy: 1.0000 - val_loss: 0.1001 - val_accuracy: 0.9839\n",
      "Epoch 27/60\n",
      "600/600 [==============================] - 4s 7ms/step - loss: 1.9522e-06 - accuracy: 1.0000 - val_loss: 0.1011 - val_accuracy: 0.9837\n",
      "Epoch 28/60\n",
      "600/600 [==============================] - 4s 7ms/step - loss: 1.5367e-06 - accuracy: 1.0000 - val_loss: 0.1020 - val_accuracy: 0.9837\n",
      "Epoch 29/60\n",
      "600/600 [==============================] - 4s 7ms/step - loss: 1.2156e-06 - accuracy: 1.0000 - val_loss: 0.1029 - val_accuracy: 0.9837\n",
      "Epoch 30/60\n",
      "600/600 [==============================] - 4s 7ms/step - loss: 9.5720e-07 - accuracy: 1.0000 - val_loss: 0.1041 - val_accuracy: 0.9837\n",
      "Epoch 31/60\n",
      "600/600 [==============================] - 4s 7ms/step - loss: 7.5397e-07 - accuracy: 1.0000 - val_loss: 0.1051 - val_accuracy: 0.9839\n",
      "Epoch 32/60\n",
      "600/600 [==============================] - 4s 7ms/step - loss: 5.9556e-07 - accuracy: 1.0000 - val_loss: 0.1062 - val_accuracy: 0.9842\n",
      "Epoch 33/60\n",
      "600/600 [==============================] - 4s 7ms/step - loss: 4.6840e-07 - accuracy: 1.0000 - val_loss: 0.1072 - val_accuracy: 0.9843\n",
      "Epoch 34/60\n",
      "600/600 [==============================] - 4s 7ms/step - loss: 3.7331e-07 - accuracy: 1.0000 - val_loss: 0.1085 - val_accuracy: 0.9845\n",
      "Epoch 35/60\n",
      "600/600 [==============================] - 4s 7ms/step - loss: 2.9385e-07 - accuracy: 1.0000 - val_loss: 0.1097 - val_accuracy: 0.9844\n",
      "Epoch 36/60\n",
      "600/600 [==============================] - 4s 7ms/step - loss: 2.3263e-07 - accuracy: 1.0000 - val_loss: 0.1108 - val_accuracy: 0.9845\n",
      "Epoch 37/60\n",
      "600/600 [==============================] - 4s 7ms/step - loss: 1.8409e-07 - accuracy: 1.0000 - val_loss: 0.1121 - val_accuracy: 0.9848\n",
      "Epoch 38/60\n",
      "600/600 [==============================] - 4s 7ms/step - loss: 1.4618e-07 - accuracy: 1.0000 - val_loss: 0.1134 - val_accuracy: 0.9848\n",
      "Epoch 39/60\n",
      "600/600 [==============================] - 4s 7ms/step - loss: 1.1718e-07 - accuracy: 1.0000 - val_loss: 0.1145 - val_accuracy: 0.9849\n",
      "Epoch 40/60\n",
      "600/600 [==============================] - 4s 6ms/step - loss: 9.4008e-08 - accuracy: 1.0000 - val_loss: 0.1159 - val_accuracy: 0.9849\n",
      "Epoch 41/60\n",
      "600/600 [==============================] - 4s 7ms/step - loss: 7.5956e-08 - accuracy: 1.0000 - val_loss: 0.1171 - val_accuracy: 0.9848\n",
      "Epoch 42/60\n",
      "600/600 [==============================] - 4s 7ms/step - loss: 6.2013e-08 - accuracy: 1.0000 - val_loss: 0.1184 - val_accuracy: 0.9848\n",
      "Epoch 43/60\n",
      "600/600 [==============================] - 4s 7ms/step - loss: 5.0996e-08 - accuracy: 1.0000 - val_loss: 0.1197 - val_accuracy: 0.9849\n",
      "Epoch 44/60\n",
      "600/600 [==============================] - 4s 7ms/step - loss: 4.2313e-08 - accuracy: 1.0000 - val_loss: 0.1206 - val_accuracy: 0.9850\n",
      "Epoch 45/60\n",
      "600/600 [==============================] - 4s 7ms/step - loss: 3.5405e-08 - accuracy: 1.0000 - val_loss: 0.1217 - val_accuracy: 0.9848\n",
      "Epoch 46/60\n",
      "600/600 [==============================] - 4s 7ms/step - loss: 2.9818e-08 - accuracy: 1.0000 - val_loss: 0.1228 - val_accuracy: 0.9849\n",
      "Epoch 47/60\n",
      "600/600 [==============================] - 4s 7ms/step - loss: 2.5543e-08 - accuracy: 1.0000 - val_loss: 0.1239 - val_accuracy: 0.9848\n",
      "Epoch 48/60\n",
      "600/600 [==============================] - 4s 7ms/step - loss: 2.2117e-08 - accuracy: 1.0000 - val_loss: 0.1246 - val_accuracy: 0.9850\n",
      "Epoch 49/60\n",
      "600/600 [==============================] - 4s 7ms/step - loss: 1.9344e-08 - accuracy: 1.0000 - val_loss: 0.1256 - val_accuracy: 0.9850\n",
      "Epoch 50/60\n",
      "600/600 [==============================] - 4s 7ms/step - loss: 1.6971e-08 - accuracy: 1.0000 - val_loss: 0.1262 - val_accuracy: 0.9848\n",
      "Epoch 51/60\n",
      "600/600 [==============================] - 4s 7ms/step - loss: 1.5150e-08 - accuracy: 1.0000 - val_loss: 0.1271 - val_accuracy: 0.9849\n",
      "Epoch 52/60\n",
      "600/600 [==============================] - 4s 7ms/step - loss: 1.3512e-08 - accuracy: 1.0000 - val_loss: 0.1277 - val_accuracy: 0.9848\n",
      "Epoch 53/60\n",
      "600/600 [==============================] - 4s 7ms/step - loss: 1.2239e-08 - accuracy: 1.0000 - val_loss: 0.1284 - val_accuracy: 0.9849\n",
      "Epoch 54/60\n",
      "600/600 [==============================] - 4s 7ms/step - loss: 1.1124e-08 - accuracy: 1.0000 - val_loss: 0.1290 - val_accuracy: 0.9849\n",
      "Epoch 55/60\n",
      "600/600 [==============================] - 4s 7ms/step - loss: 1.0202e-08 - accuracy: 1.0000 - val_loss: 0.1295 - val_accuracy: 0.9849\n",
      "Epoch 56/60\n",
      "600/600 [==============================] - 4s 7ms/step - loss: 9.3778e-09 - accuracy: 1.0000 - val_loss: 0.1299 - val_accuracy: 0.9849\n",
      "Epoch 57/60\n",
      "600/600 [==============================] - 4s 7ms/step - loss: 8.6725e-09 - accuracy: 1.0000 - val_loss: 0.1304 - val_accuracy: 0.9849\n",
      "Epoch 58/60\n",
      "600/600 [==============================] - 4s 7ms/step - loss: 8.0864e-09 - accuracy: 1.0000 - val_loss: 0.1309 - val_accuracy: 0.9849\n",
      "Epoch 59/60\n",
      "600/600 [==============================] - 4s 7ms/step - loss: 7.5757e-09 - accuracy: 1.0000 - val_loss: 0.1313 - val_accuracy: 0.9849\n",
      "Epoch 60/60\n",
      "600/600 [==============================] - 4s 7ms/step - loss: 7.1228e-09 - accuracy: 1.0000 - val_loss: 0.1316 - val_accuracy: 0.9850\n"
     ]
    }
   ],
   "source": [
    "history = model.fit(x_trainv, y_trainc,\n",
    "                    batch_size=100,\n",
    "                    epochs=60,\n",
    "                    verbose=1,\n",
    "                    validation_data=(x_testv, y_testc))"
   ]
  },
  {
   "cell_type": "code",
   "execution_count": 27,
   "metadata": {},
   "outputs": [
    {
     "name": "stdout",
     "output_type": "stream",
     "text": [
      "313/313 [==============================] - 0s 2ms/step - loss: 0.1316 - accuracy: 0.9850\n",
      "[0.13161922991275787, 0.9850000143051147]\n",
      "313/313 [==============================] - 0s 1ms/step\n",
      "(10000, 10)\n",
      "[1.12677439e-13 6.96237599e-12 9.99999940e-01 3.54307556e-12\n",
      " 9.29220554e-14 6.90141998e-17 3.64220610e-14 2.49541967e-12\n",
      " 1.15863395e-11 5.67396011e-19]\n",
      "resultado correcto:\n",
      "[0. 0. 1. 0. 0. 0. 0. 0. 0. 0.]\n"
     ]
    }
   ],
   "source": [
    "score = model.evaluate(x_testv, y_testc, verbose=1) #evaluar la eficiencia del modelo\n",
    "print(score)\n",
    "a=model.predict(x_testv) #predicción de la red entrenada\n",
    "print(a.shape)\n",
    "print(a[1])\n",
    "print(\"resultado correcto:\")\n",
    "print(y_testc[1])"
   ]
  },
  {
   "cell_type": "code",
   "execution_count": 28,
   "metadata": {},
   "outputs": [
    {
     "name": "stderr",
     "output_type": "stream",
     "text": [
      "/usr/local/python/3.10.8/lib/python3.10/site-packages/keras/src/engine/training.py:3079: UserWarning: You are saving your model as an HDF5 file via `model.save()`. This file format is considered legacy. We recommend using instead the native Keras format, e.g. `model.save('my_model.keras')`.\n",
      "  saving_api.save_model(\n"
     ]
    }
   ],
   "source": [
    "model.save(\"red.h5\")"
   ]
  },
  {
   "cell_type": "code",
   "execution_count": 29,
   "metadata": {},
   "outputs": [],
   "source": [
    "model_cargado = tf.keras.models.load_model('red.h5')"
   ]
  },
  {
   "cell_type": "code",
   "execution_count": 63,
   "metadata": {},
   "outputs": [
    {
     "name": "stdout",
     "output_type": "stream",
     "text": [
      "Model: \"sequential\"\n"
     ]
    },
    {
     "name": "stdout",
     "output_type": "stream",
     "text": [
      "_________________________________________________________________\n",
      " Layer (type)                Output Shape              Param #   \n",
      "=================================================================\n",
      " dense (Dense)               (None, 800)               628000    \n",
      "                                                                 \n",
      " dense_1 (Dense)             (None, 400)               320400    \n",
      "                                                                 \n",
      " dense_2 (Dense)             (None, 200)               80200     \n",
      "                                                                 \n",
      " dense_3 (Dense)             (None, 10)                2010      \n",
      "                                                                 \n",
      " dense_12 (Dense)            (None, 800)               8800      \n",
      "                                                                 \n",
      " dense_13 (Dense)            (None, 400)               320400    \n",
      "                                                                 \n",
      " dense_14 (Dense)            (None, 200)               80200     \n",
      "                                                                 \n",
      " dense_15 (Dense)            (None, 10)                2010      \n",
      "                                                                 \n",
      " dense_16 (Dense)            (None, 800)               8800      \n",
      "                                                                 \n",
      " dense_17 (Dense)            (None, 400)               320400    \n",
      "                                                                 \n",
      " dense_18 (Dense)            (None, 200)               80200     \n",
      "                                                                 \n",
      " dense_19 (Dense)            (None, 10)                2010      \n",
      "                                                                 \n",
      " dense_20 (Dense)            (None, 800)               8800      \n",
      "                                                                 \n",
      " dense_21 (Dense)            (None, 400)               320400    \n",
      "                                                                 \n",
      " dense_22 (Dense)            (None, 200)               80200     \n",
      "                                                                 \n",
      " dense_23 (Dense)            (None, 10)                2010      \n",
      "                                                                 \n",
      " dense_24 (Dense)            (None, 800)               8800      \n",
      "                                                                 \n",
      " dense_25 (Dense)            (None, 400)               320400    \n",
      "                                                                 \n",
      " dense_26 (Dense)            (None, 200)               80200     \n",
      "                                                                 \n",
      " dense_27 (Dense)            (None, 10)                2010      \n",
      "                                                                 \n",
      " dense_28 (Dense)            (None, 800)               8800      \n",
      "                                                                 \n",
      " dense_29 (Dense)            (None, 400)               320400    \n",
      "                                                                 \n",
      " dense_30 (Dense)            (None, 200)               80200     \n",
      "                                                                 \n",
      " dense_31 (Dense)            (None, 10)                2010      \n",
      "                                                                 \n",
      " dense_32 (Dense)            (None, 800)               8800      \n",
      "                                                                 \n",
      " dense_33 (Dense)            (None, 400)               320400    \n",
      "                                                                 \n",
      " dense_34 (Dense)            (None, 200)               80200     \n",
      "                                                                 \n",
      " dense_35 (Dense)            (None, 10)                2010      \n",
      "                                                                 \n",
      " dense_36 (Dense)            (None, 800)               8800      \n",
      "                                                                 \n",
      " dense_37 (Dense)            (None, 800)               640800    \n",
      "                                                                 \n",
      " dense_38 (Dense)            (None, 800)               640800    \n",
      "                                                                 \n",
      " dense_39 (Dense)            (None, 800)               640800    \n",
      "                                                                 \n",
      " dense_40 (Dense)            (None, 400)               320400    \n",
      "                                                                 \n",
      " dense_41 (Dense)            (None, 200)               80200     \n",
      "                                                                 \n",
      " dense_42 (Dense)            (None, 10)                2010      \n",
      "                                                                 \n",
      " dense_43 (Dense)            (None, 800)               8800      \n",
      "                                                                 \n",
      " dense_44 (Dense)            (None, 800)               640800    \n",
      "                                                                 \n",
      " dense_45 (Dense)            (None, 400)               320400    \n",
      "                                                                 \n",
      " dense_46 (Dense)            (None, 200)               80200     \n",
      "                                                                 \n",
      " dense_47 (Dense)            (None, 10)                2010      \n",
      "                                                                 \n",
      " dense_48 (Dense)            (None, 800)               8800      \n",
      "                                                                 \n",
      " dense_49 (Dense)            (None, 400)               320400    \n",
      "                                                                 \n",
      " dense_50 (Dense)            (None, 200)               80200     \n",
      "                                                                 \n",
      " dense_51 (Dense)            (None, 10)                2010      \n",
      "                                                                 \n",
      "=================================================================\n",
      "Total params: 7296500 (27.83 MB)\n",
      "Trainable params: 7296500 (27.83 MB)\n",
      "Non-trainable params: 0 (0.00 Byte)\n",
      "_________________________________________________________________\n"
     ]
    }
   ],
   "source": [
    "#model_cargado.add(Dense(800, activation='sigmoid'))\n",
    "#model.add(Input(shape=(28,28)))\n",
    "model_cargado.add(Dense(800, activation='selu', kernel_regularizer=regularizers.L1(0.01),input_shape=(784,)))\n",
    "model_cargado.add(Dense(400, activation='selu', kernel_regularizer=regularizers.L1(0.01)))\n",
    "model_cargado.add(Dense(200, activation='selu', kernel_regularizer=regularizers.L1(0.01)))\n",
    "model_cargado.add(Dense(10, activation='softmax'))\n",
    "model_cargado.summary()"
   ]
  },
  {
   "cell_type": "code",
   "execution_count": 64,
   "metadata": {},
   "outputs": [],
   "source": [
    "model_cargado.compile(loss='categorical_crossentropy',optimizer=Adam(),metrics=['accuracy'])\n"
   ]
  },
  {
   "cell_type": "code",
   "execution_count": null,
   "metadata": {},
   "outputs": [],
   "source": [
    "history = model_cargado.fit(x_trainv, y_trainc,\n",
    "                    batch_size=100,\n",
    "                    epochs=20,\n",
    "                    verbose=1,\n",
    "                    validation_data=(x_testv, y_testc))"
   ]
  },
  {
   "cell_type": "code",
   "execution_count": 67,
   "metadata": {},
   "outputs": [
    {
     "name": "stdout",
     "output_type": "stream",
     "text": [
      "313/313 [==============================] - 3s 9ms/step - loss: 8.0031 - accuracy: 0.1135\n",
      "[8.003129959106445, 0.11349999904632568]\n",
      "313/313 [==============================] - 3s 7ms/step\n",
      "(10000, 10)\n",
      "[0.10327016 0.11142676 0.09657462 0.10400704 0.09537668 0.09229064\n",
      " 0.0968336  0.10349429 0.09669309 0.10003307]\n",
      "resultado correcto:\n",
      "[0. 0. 1. 0. 0. 0. 0. 0. 0. 0.]\n"
     ]
    }
   ],
   "source": [
    "score = model_cargado.evaluate(x_testv, y_testc, verbose=1) #evaluar la eficiencia del modelo\n",
    "print(score)\n",
    "a=model_cargado.predict(x_testv) #predicción de la red entrenada\n",
    "print(a.shape)\n",
    "print(a[1])\n",
    "print(\"resultado correcto:\")\n",
    "print(y_testc[1])\n"
   ]
  },
  {
   "cell_type": "code",
   "execution_count": null,
   "metadata": {},
   "outputs": [],
   "source": []
  }
 ],
 "metadata": {
  "kernelspec": {
   "display_name": "Python 3 (ipykernel)",
   "language": "python",
   "name": "python3"
  },
  "language_info": {
   "codemirror_mode": {
    "name": "ipython",
    "version": 3
   },
   "file_extension": ".py",
   "mimetype": "text/x-python",
   "name": "python",
   "nbconvert_exporter": "python",
   "pygments_lexer": "ipython3",
   "version": "3.10.8"
  },
  "orig_nbformat": 4
 },
 "nbformat": 4,
 "nbformat_minor": 2
}
