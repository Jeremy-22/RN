{
 "cells": [
  {
   "cell_type": "code",
   "execution_count": null,
   "metadata": {},
   "outputs": [],
   "source": [
    "pip install tensorflow"
   ]
  },
  {
   "cell_type": "code",
   "execution_count": 5,
   "metadata": {},
   "outputs": [
    {
     "name": "stderr",
     "output_type": "stream",
     "text": [
      "2023-10-04 06:23:54.495094: I tensorflow/tsl/cuda/cudart_stub.cc:28] Could not find cuda drivers on your machine, GPU will not be used.\n",
      "2023-10-04 06:23:54.519763: E tensorflow/compiler/xla/stream_executor/cuda/cuda_dnn.cc:9342] Unable to register cuDNN factory: Attempting to register factory for plugin cuDNN when one has already been registered\n",
      "2023-10-04 06:23:54.519793: E tensorflow/compiler/xla/stream_executor/cuda/cuda_fft.cc:609] Unable to register cuFFT factory: Attempting to register factory for plugin cuFFT when one has already been registered\n",
      "2023-10-04 06:23:54.519813: E tensorflow/compiler/xla/stream_executor/cuda/cuda_blas.cc:1518] Unable to register cuBLAS factory: Attempting to register factory for plugin cuBLAS when one has already been registered\n",
      "2023-10-04 06:23:54.524453: I tensorflow/tsl/cuda/cudart_stub.cc:28] Could not find cuda drivers on your machine, GPU will not be used.\n",
      "2023-10-04 06:23:54.525250: I tensorflow/core/platform/cpu_feature_guard.cc:182] This TensorFlow binary is optimized to use available CPU instructions in performance-critical operations.\n",
      "To enable the following instructions: AVX2 FMA, in other operations, rebuild TensorFlow with the appropriate compiler flags.\n",
      "2023-10-04 06:23:55.381808: W tensorflow/compiler/tf2tensorrt/utils/py_utils.cc:38] TF-TRT Warning: Could not find TensorRT\n"
     ]
    }
   ],
   "source": [
    "import numpy as np\n",
    "import tensorflow as tf\n",
    "from tensorflow import keras\n",
    "from tensorflow.keras.datasets import mnist\n",
    "from keras.datasets import mnist\n",
    "from tensorflow.keras.models import Sequential\n",
    "from tensorflow.keras.layers import Dense, Activation\n",
    "from tensorflow.keras.optimizers import SGD, Adam, RMSprop\n",
    "from tensorflow.keras import regularizers"
   ]
  },
  {
   "cell_type": "markdown",
   "metadata": {},
   "source": [
    "Se aumenta el numero de espocas"
   ]
  },
  {
   "cell_type": "code",
   "execution_count": 6,
   "metadata": {},
   "outputs": [],
   "source": [
    "learning_rate = 3.0\n",
    "epochs = 60            # el numero de epocas \n"
   ]
  },
  {
   "cell_type": "code",
   "execution_count": 7,
   "metadata": {},
   "outputs": [
    {
     "name": "stdout",
     "output_type": "stream",
     "text": [
      "Downloading data from https://storage.googleapis.com/tensorflow/tf-keras-datasets/mnist.npz\n",
      "11490434/11490434 [==============================] - 0s 0us/step\n"
     ]
    }
   ],
   "source": [
    "dataset=mnist.load_data()\n",
    "(x_train, y_train), (x_test, y_test) = dataset"
   ]
  },
  {
   "cell_type": "code",
   "execution_count": 8,
   "metadata": {},
   "outputs": [],
   "source": [
    "x_trainv = x_train.reshape(60000, 784)\n",
    "x_testv = x_test.reshape(10000, 784)\n",
    "x_trainv = x_trainv.astype('float32')\n",
    "x_testv = x_testv.astype('float32')\n",
    "\n",
    "x_trainv /= 255  # x_trainv = x_trainv/255\n",
    "x_testv /= 255"
   ]
  },
  {
   "cell_type": "code",
   "execution_count": 9,
   "metadata": {},
   "outputs": [],
   "source": [
    "num_classes=10\n",
    "y_trainc = keras.utils.to_categorical(y_train, num_classes)\n",
    "y_testc = keras.utils.to_categorical(y_test, num_classes)"
   ]
  },
  {
   "cell_type": "code",
   "execution_count": 8,
   "metadata": {},
   "outputs": [],
   "source": [
    "model = Sequential()\n",
    "model.add(Dense(64, activation='relu', input_shape=(784,)))\n",
    "model.add(Dense(10, activation='softmax'))"
   ]
  },
  {
   "cell_type": "markdown",
   "metadata": {},
   "source": [
    "Se cambio al optimizador RMSprop"
   ]
  },
  {
   "cell_type": "code",
   "execution_count": 9,
   "metadata": {},
   "outputs": [],
   "source": [
    "model.compile(loss='categorical_crossentropy',optimizer=RMSprop(),metrics=['accuracy'])"
   ]
  },
  {
   "cell_type": "markdown",
   "metadata": {},
   "source": []
  },
  {
   "cell_type": "code",
   "execution_count": 10,
   "metadata": {},
   "outputs": [
    {
     "name": "stdout",
     "output_type": "stream",
     "text": [
      "600/600 [==============================] - 1s 2ms/step - loss: 6.3586e-04 - accuracy: 1.0000 - val_loss: 0.1337 - val_accuracy: 0.9750\n",
      "Epoch 55/60\n",
      "600/600 [==============================] - 1s 2ms/step - loss: 5.8215e-04 - accuracy: 0.9999 - val_loss: 0.1382 - val_accuracy: 0.9758\n",
      "Epoch 56/60\n",
      "600/600 [==============================] - 1s 2ms/step - loss: 4.4202e-04 - accuracy: 1.0000 - val_loss: 0.1346 - val_accuracy: 0.9757\n",
      "Epoch 57/60\n",
      "600/600 [==============================] - 1s 2ms/step - loss: 4.3481e-04 - accuracy: 1.0000 - val_loss: 0.1351 - val_accuracy: 0.9763\n",
      "Epoch 58/60\n",
      "600/600 [==============================] - 1s 2ms/step - loss: 3.8893e-04 - accuracy: 1.0000 - val_loss: 0.1386 - val_accuracy: 0.9757\n",
      "Epoch 59/60\n",
      "600/600 [==============================] - 1s 2ms/step - loss: 3.9397e-04 - accuracy: 1.0000 - val_loss: 0.1366 - val_accuracy: 0.9757\n",
      "Epoch 60/60\n",
      "600/600 [==============================] - 1s 2ms/step - loss: 3.0013e-04 - accuracy: 1.0000 - val_loss: 0.1369 - val_accuracy: 0.9761\n"
     ]
    }
   ],
   "source": [
    "history = model.fit(x_trainv, y_trainc,\n",
    "                    batch_size=100,\n",
    "                    epochs=epochs,\n",
    "                    verbose=1,\n",
    "                    validation_data=(x_testv, y_testc)\n",
    "                    )"
   ]
  },
  {
   "cell_type": "markdown",
   "metadata": {},
   "source": [
    "Ahora se aumentara el numero de neuronas y capas densas con ultima capa softmax"
   ]
  },
  {
   "cell_type": "code",
   "execution_count": 20,
   "metadata": {},
   "outputs": [],
   "source": [
    "model = Sequential()\n",
    "model.add(Dense(600, activation='sigmoid', input_shape=(784,)))\n",
    "model.add(Dense(200, activation='sigmoid'))\n",
    "model.add(Dense(25, activation='sigmoid'))\n",
    "model.add(Dense(10, activation='softmax'))"
   ]
  },
  {
   "cell_type": "markdown",
   "metadata": {},
   "source": [
    "se implemento el optimizador adam"
   ]
  },
  {
   "cell_type": "code",
   "execution_count": 21,
   "metadata": {},
   "outputs": [],
   "source": [
    "model.compile(loss='categorical_crossentropy',optimizer=Adam(),metrics=['accuracy'])"
   ]
  },
  {
   "cell_type": "markdown",
   "metadata": {},
   "source": [
    "se disminuyo el numero de espocas"
   ]
  },
  {
   "cell_type": "code",
   "execution_count": null,
   "metadata": {},
   "outputs": [
    {
     "name": "stdout",
     "output_type": "stream",
     "text": [
      "600/600 [==============================] - 4s 6ms/step - loss: 1.5649e-06 - accuracy: 1.0000 - val_loss: 0.1080 - val_accuracy: 0.9848\n",
      "Epoch 59/60\n",
      "600/600 [==============================] - 4s 6ms/step - loss: 1.1921e-06 - accuracy: 1.0000 - val_loss: 0.1093 - val_accuracy: 0.9845\n",
      "Epoch 60/60\n",
      "600/600 [==============================] - 4s 6ms/step - loss: 9.0734e-07 - accuracy: 1.0000 - val_loss: 0.1109 - val_accuracy: 0.9848\n"
     ]
    }
   ],
   "source": [
    "history = model.fit(x_trainv, y_trainc,\n",
    "                    batch_size=100,\n",
    "                    epochs=60,\n",
    "                    verbose=1,\n",
    "                    validation_data=(x_testv, y_testc)\n",
    "                    )\n",
    "\n",
    "#tardo 3 minutos al ser la red más compleja"
   ]
  },
  {
   "cell_type": "markdown",
   "metadata": {},
   "source": [
    "Ahora solo aumentesmos el numero de capas, con activacion relu y ultima capa sigmoid"
   ]
  },
  {
   "cell_type": "code",
   "execution_count": 10,
   "metadata": {},
   "outputs": [],
   "source": [
    "model = Sequential()\n",
    "model.add(Dense(600, activation = 'relu', input_shape = (784,)))\n",
    "model.add(Dense(10, activation = 'sigmoid'))"
   ]
  },
  {
   "cell_type": "markdown",
   "metadata": {},
   "source": [
    "se implento el optimizador sgd"
   ]
  },
  {
   "cell_type": "code",
   "execution_count": 11,
   "metadata": {},
   "outputs": [],
   "source": [
    "model.compile(loss='categorical_crossentropy', optimizer = SGD(), metrics=['accuracy'])"
   ]
  },
  {
   "cell_type": "code",
   "execution_count": 12,
   "metadata": {},
   "outputs": [
    {
     "name": "stdout",
     "output_type": "stream",
     "text": [
      "600/600 [==============================] - 2s 3ms/step - loss: 0.1052 - accuracy: 0.9717 - val_loss: 0.1158 - val_accuracy: 0.9673\n",
      "Epoch 51/60\n",
      "600/600 [==============================] - 2s 3ms/step - loss: 0.1036 - accuracy: 0.9720 - val_loss: 0.1147 - val_accuracy: 0.9672\n",
      "Epoch 52/60\n",
      "600/600 [==============================] - 2s 3ms/step - loss: 0.1021 - accuracy: 0.9727 - val_loss: 0.1132 - val_accuracy: 0.9679\n",
      "Epoch 53/60\n",
      "600/600 [==============================] - 2s 3ms/step - loss: 0.1006 - accuracy: 0.9730 - val_loss: 0.1122 - val_accuracy: 0.9685\n",
      "Epoch 54/60\n",
      "600/600 [==============================] - 2s 3ms/step - loss: 0.0992 - accuracy: 0.9735 - val_loss: 0.1108 - val_accuracy: 0.9685\n",
      "Epoch 55/60\n",
      "600/600 [==============================] - 2s 3ms/step - loss: 0.0977 - accuracy: 0.9738 - val_loss: 0.1104 - val_accuracy: 0.9687\n",
      "Epoch 56/60\n",
      "600/600 [==============================] - 2s 3ms/step - loss: 0.0963 - accuracy: 0.9743 - val_loss: 0.1090 - val_accuracy: 0.9687\n",
      "Epoch 57/60\n",
      "600/600 [==============================] - 2s 3ms/step - loss: 0.0950 - accuracy: 0.9748 - val_loss: 0.1075 - val_accuracy: 0.9695\n",
      "Epoch 58/60\n",
      "600/600 [==============================] - 2s 3ms/step - loss: 0.0937 - accuracy: 0.9752 - val_loss: 0.1072 - val_accuracy: 0.9698\n",
      "Epoch 59/60\n",
      "600/600 [==============================] - 2s 3ms/step - loss: 0.0924 - accuracy: 0.9757 - val_loss: 0.1055 - val_accuracy: 0.9699\n",
      "Epoch 60/60\n",
      "600/600 [==============================] - 2s 3ms/step - loss: 0.0912 - accuracy: 0.9760 - val_loss: 0.1045 - val_accuracy: 0.9699\n"
     ]
    }
   ],
   "source": [
    "history = model.fit(x_trainv, y_trainc,\n",
    "                    batch_size=100,\n",
    "                    epochs=60,\n",
    "                    verbose=1,\n",
    "                    validation_data=(x_testv, y_testc)\n",
    "                    )"
   ]
  }
 ],
 "metadata": {
  "kernelspec": {
   "display_name": "Python 3 (ipykernel)",
   "language": "python",
   "name": "python3"
  },
  "language_info": {
   "codemirror_mode": {
    "name": "ipython",
    "version": 3
   },
   "file_extension": ".py",
   "mimetype": "text/x-python",
   "name": "python",
   "nbconvert_exporter": "python",
   "pygments_lexer": "ipython3",
   "version": "3.10.8"
  },
  "orig_nbformat": 4
 },
 "nbformat": 4,
 "nbformat_minor": 2
}
