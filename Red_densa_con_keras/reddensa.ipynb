{
 "cells": [
  {
   "cell_type": "code",
   "execution_count": null,
   "metadata": {},
   "outputs": [
    {
     "ename": "",
     "evalue": "",
     "output_type": "error",
     "traceback": [
      "\u001b[1;31mNo se pudo iniciar el Kernel. \n",
      "\u001b[1;31mNo se pudo conectar con el servidor remoto de Jupyter Server 'jupyter-server-xgvpgq74vvpfrxg'. Compruebe que el servidor se está ejecutando y es accesible. (Connection is disposed.). \n",
      "\u001b[1;31mVea el [registro] de Jupyter (command:jupyter.viewOutput) para obtener más detalles."
     ]
    }
   ],
   "source": [
    "import numpy as np\n",
    "import tensorflow as tf\n",
    "from tensorflow import keras\n",
    "from tensorflow.keras.datasets import mnist\n",
    "from tensorflow.keras.models import Sequential\n",
    "from tensorflow.keras.layers import Dense, Dropout, Activation\n",
    "from tensorflow.keras.optimizers import RMSprop, SGD\n",
    "from tensorflow.keras import regularizers"
   ]
  },
  {
   "cell_type": "code",
   "execution_count": 14,
   "metadata": {},
   "outputs": [],
   "source": [
    "learning_rate = 0.001  \n",
    "epochs = 30            # el numero de epocas \n",
    "batch_size = 120"
   ]
  },
  {
   "cell_type": "code",
   "execution_count": null,
   "metadata": {},
   "outputs": [],
   "source": [
    "dataset=mnist.load_data() # se carga la base de datos"
   ]
  },
  {
   "cell_type": "code",
   "execution_count": 16,
   "metadata": {},
   "outputs": [
    {
     "ename": "ValueError",
     "evalue": "setting an array element with a sequence. The requested array has an inhomogeneous shape after 2 dimensions. The detected shape was (2, 2) + inhomogeneous part.",
     "output_type": "error",
     "traceback": [
      "\u001b[0;31m---------------------------------------------------------------------------\u001b[0m",
      "\u001b[0;31mValueError\u001b[0m                                Traceback (most recent call last)",
      "\u001b[1;32m/Jeremy-22/RN/Red_densa_con_keras/reddensa.ipynb Celda 4\u001b[0m line \u001b[0;36m2\n\u001b[1;32m      <a href='vscode-notebook-cell://github%2B7b2276223a312c22726566223a7b2274797065223a352c226964223a226d61696e227d7d/Jeremy-22/RN/Red_densa_con_keras/reddensa.ipynb#W6sdnNjb2RlLXZmcw%3D%3D?line=0'>1</a>\u001b[0m \u001b[39mimport\u001b[39;00m \u001b[39mnumpy\u001b[39;00m \u001b[39mas\u001b[39;00m \u001b[39mnp\u001b[39;00m\n\u001b[0;32m----> <a href='vscode-notebook-cell://github%2B7b2276223a312c22726566223a7b2274797065223a352c226964223a226d61696e227d7d/Jeremy-22/RN/Red_densa_con_keras/reddensa.ipynb#W6sdnNjb2RlLXZmcw%3D%3D?line=1'>2</a>\u001b[0m dat \u001b[39m=\u001b[39m np\u001b[39m.\u001b[39;49marray(dataset)\n\u001b[1;32m      <a href='vscode-notebook-cell://github%2B7b2276223a312c22726566223a7b2274797065223a352c226964223a226d61696e227d7d/Jeremy-22/RN/Red_densa_con_keras/reddensa.ipynb#W6sdnNjb2RlLXZmcw%3D%3D?line=2'>3</a>\u001b[0m \u001b[39mprint\u001b[39m(dat[\u001b[39m1\u001b[39m,\u001b[39m1\u001b[39m]\u001b[39m.\u001b[39mshape)\n\u001b[1;32m      <a href='vscode-notebook-cell://github%2B7b2276223a312c22726566223a7b2274797065223a352c226964223a226d61696e227d7d/Jeremy-22/RN/Red_densa_con_keras/reddensa.ipynb#W6sdnNjb2RlLXZmcw%3D%3D?line=3'>4</a>\u001b[0m (x_train, y_train), (x_test, y_test) \u001b[39m=\u001b[39m dataset\n",
      "\u001b[0;31mValueError\u001b[0m: setting an array element with a sequence. The requested array has an inhomogeneous shape after 2 dimensions. The detected shape was (2, 2) + inhomogeneous part."
     ]
    }
   ],
   "source": [
    "import numpy as np\n",
    "dat = np.array(dataset)\n",
    "print(dat[1,1].shape)\n",
    "(x_train, y_train), (x_test, y_test) = dataset"
   ]
  },
  {
   "cell_type": "code",
   "execution_count": null,
   "metadata": {},
   "outputs": [
    {
     "ename": "NameError",
     "evalue": "name 'dat' is not defined",
     "output_type": "error",
     "traceback": [
      "\u001b[0;31m---------------------------------------------------------------------------\u001b[0m",
      "\u001b[0;31mNameError\u001b[0m                                 Traceback (most recent call last)",
      "\u001b[1;32m/Jeremy-22/RN/Red_densa_con_keras/reddensa.ipynb Celda 5\u001b[0m line \u001b[0;36m2\n\u001b[1;32m      <a href='vscode-notebook-cell://github%2B7b2276223a312c22726566223a7b2274797065223a352c226964223a226d61696e227d7d/Jeremy-22/RN/Red_densa_con_keras/reddensa.ipynb#W4sdnNjb2RlLXZmcw%3D%3D?line=0'>1</a>\u001b[0m \u001b[39mimport\u001b[39;00m \u001b[39mmatplotlib\u001b[39;00m\u001b[39m.\u001b[39;00m\u001b[39mpyplot\u001b[39;00m \u001b[39mas\u001b[39;00m \u001b[39mplt\u001b[39;00m\n\u001b[0;32m----> <a href='vscode-notebook-cell://github%2B7b2276223a312c22726566223a7b2274797065223a352c226964223a226d61696e227d7d/Jeremy-22/RN/Red_densa_con_keras/reddensa.ipynb#W4sdnNjb2RlLXZmcw%3D%3D?line=1'>2</a>\u001b[0m plt\u001b[39m.\u001b[39mimshow(dat[\u001b[39m0\u001b[39m,\u001b[39m0\u001b[39m][\u001b[39m10000\u001b[39m])\n",
      "\u001b[0;31mNameError\u001b[0m: name 'dat' is not defined"
     ]
    }
   ],
   "source": [
    "import matplotlib.pyplot as plt\n",
    "plt.imshow(dat[0,0][10000])"
   ]
  },
  {
   "cell_type": "code",
   "execution_count": null,
   "metadata": {},
   "outputs": [],
   "source": []
  }
 ],
 "metadata": {
  "kernelspec": {
   "display_name": "Python 3 (ipykernel)",
   "language": "python",
   "name": "python3"
  },
  "orig_nbformat": 4
 },
 "nbformat": 4,
 "nbformat_minor": 2
}
