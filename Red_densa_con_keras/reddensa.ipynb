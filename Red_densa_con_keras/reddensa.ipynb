{
 "cells": [
  {
   "cell_type": "code",
   "execution_count": 38,
   "metadata": {},
   "outputs": [],
   "source": [
    "import numpy as np\n",
    "import tensorflow as tf\n",
    "from tensorflow import keras\n",
    "from tensorflow.keras.datasets import mnist\n",
    "from keras.datasets import mnist\n",
    "from tensorflow.keras.models import Sequential\n",
    "from tensorflow.keras.layers import Dense, Activation\n",
    "from tensorflow.keras.optimizers import SGD\n",
    "from tensorflow.keras import regularizers"
   ]
  },
  {
   "cell_type": "code",
   "execution_count": 56,
   "metadata": {},
   "outputs": [],
   "source": [
    "learning_rate = 3.0\n",
    "epochs = 30            # el numero de epocas \n",
    "batch_size = 10"
   ]
  },
  {
   "cell_type": "code",
   "execution_count": 57,
   "metadata": {},
   "outputs": [],
   "source": [
    "dataset=mnist.load_data() # se carga la base de datos"
   ]
  },
  {
   "cell_type": "code",
   "execution_count": 58,
   "metadata": {},
   "outputs": [],
   "source": [
    "(x_train, y_train), (x_test, y_test) = dataset"
   ]
  },
  {
   "cell_type": "code",
   "execution_count": 59,
   "metadata": {},
   "outputs": [],
   "source": [
    "x_trainv = x_train.reshape(60000, 784)\n",
    "x_testv = x_test.reshape(10000, 784)\n",
    "x_trainv = x_trainv.astype('float32')\n",
    "x_testv = x_testv.astype('float32')\n",
    "\n",
    "#x_trainv /= 255  # x_trainv = x_trainv/255\n",
    "#x_testv /= 255"
   ]
  },
  {
   "cell_type": "code",
   "execution_count": 60,
   "metadata": {},
   "outputs": [],
   "source": [
    "num_classes=10\n",
    "y_trainc = keras.utils.to_categorical(y_train, num_classes)\n",
    "y_testc = keras.utils.to_categorical(y_test, num_classes)"
   ]
  },
  {
   "cell_type": "code",
   "execution_count": 65,
   "metadata": {},
   "outputs": [],
   "source": [
    "model = Sequential()\n",
    "model.add(Dense(64, activation='sigmoid', input_shape=(784,))) #donde Dense implementa la operación: activation(dot(input, peso) + bias)\n",
    "model.add(Dense(num_classes, activation='sigmoid'))"
   ]
  },
  {
   "cell_type": "code",
   "execution_count": 66,
   "metadata": {},
   "outputs": [],
   "source": [
    "optimizer = keras.optimizers.SGD(learning_rate=0.01, momentum=0.9)\n",
    "#SGD(learning_rate=learning_rate)\n",
    "model.compile(loss='categorical_crossentropy',optimizer=optimizer,metrics=['accuracy'])"
   ]
  },
  {
   "cell_type": "code",
   "execution_count": 67,
   "metadata": {},
   "outputs": [
    {
     "name": "stdout",
     "output_type": "stream",
     "text": [
      "Epoch 1/30\n",
      "6000/6000 [==============================] - 8s 1ms/step - loss: 1.5737 - accuracy: 0.4287 - val_loss: 1.8310 - val_accuracy: 0.3149\n",
      "Epoch 2/30\n",
      "6000/6000 [==============================] - 7s 1ms/step - loss: 1.7024 - accuracy: 0.3596 - val_loss: 1.7355 - val_accuracy: 0.3541\n",
      "Epoch 3/30\n",
      "6000/6000 [==============================] - 7s 1ms/step - loss: 1.5592 - accuracy: 0.4308 - val_loss: 1.5404 - val_accuracy: 0.3952\n",
      "Epoch 4/30\n",
      "6000/6000 [==============================] - 7s 1ms/step - loss: 1.5277 - accuracy: 0.4383 - val_loss: 1.4752 - val_accuracy: 0.4144\n",
      "Epoch 5/30\n",
      "6000/6000 [==============================] - 7s 1ms/step - loss: 1.4011 - accuracy: 0.4705 - val_loss: 1.2493 - val_accuracy: 0.5054\n",
      "Epoch 6/30\n",
      "6000/6000 [==============================] - 7s 1ms/step - loss: 1.3721 - accuracy: 0.4845 - val_loss: 1.3351 - val_accuracy: 0.5103\n",
      "Epoch 7/30\n",
      "6000/6000 [==============================] - 7s 1ms/step - loss: 1.5229 - accuracy: 0.4355 - val_loss: 1.4146 - val_accuracy: 0.4881\n",
      "Epoch 8/30\n",
      "6000/6000 [==============================] - 7s 1ms/step - loss: 1.3501 - accuracy: 0.5093 - val_loss: 1.2515 - val_accuracy: 0.5325\n",
      "Epoch 9/30\n",
      "6000/6000 [==============================] - 7s 1ms/step - loss: 1.1675 - accuracy: 0.5560 - val_loss: 1.1409 - val_accuracy: 0.5756\n",
      "Epoch 10/30\n",
      "6000/6000 [==============================] - 7s 1ms/step - loss: 1.1888 - accuracy: 0.5481 - val_loss: 1.2173 - val_accuracy: 0.5557\n",
      "Epoch 11/30\n",
      "6000/6000 [==============================] - 7s 1ms/step - loss: 1.2179 - accuracy: 0.5457 - val_loss: 1.0742 - val_accuracy: 0.6178\n",
      "Epoch 12/30\n",
      "6000/6000 [==============================] - 7s 1ms/step - loss: 1.1457 - accuracy: 0.5849 - val_loss: 1.1194 - val_accuracy: 0.5892\n",
      "Epoch 13/30\n",
      "6000/6000 [==============================] - 7s 1ms/step - loss: 1.1730 - accuracy: 0.5588 - val_loss: 1.1713 - val_accuracy: 0.5782\n",
      "Epoch 14/30\n",
      "6000/6000 [==============================] - 7s 1ms/step - loss: 1.1626 - accuracy: 0.5594 - val_loss: 1.1686 - val_accuracy: 0.5313\n",
      "Epoch 15/30\n",
      "6000/6000 [==============================] - 7s 1ms/step - loss: 1.1456 - accuracy: 0.5602 - val_loss: 1.1406 - val_accuracy: 0.5934\n",
      "Epoch 16/30\n",
      "6000/6000 [==============================] - 7s 1ms/step - loss: 1.2646 - accuracy: 0.5357 - val_loss: 1.2072 - val_accuracy: 0.5588\n",
      "Epoch 17/30\n",
      "6000/6000 [==============================] - 8s 1ms/step - loss: 1.1851 - accuracy: 0.5611 - val_loss: 1.2424 - val_accuracy: 0.5039\n",
      "Epoch 18/30\n",
      "6000/6000 [==============================] - 7s 1ms/step - loss: 1.1597 - accuracy: 0.5603 - val_loss: 1.1301 - val_accuracy: 0.5768\n",
      "Epoch 19/30\n",
      "6000/6000 [==============================] - 7s 1ms/step - loss: 1.1715 - accuracy: 0.5691 - val_loss: 1.1908 - val_accuracy: 0.5631\n",
      "Epoch 20/30\n",
      "6000/6000 [==============================] - 7s 1ms/step - loss: 1.1690 - accuracy: 0.5594 - val_loss: 1.1668 - val_accuracy: 0.5562\n",
      "Epoch 21/30\n",
      "6000/6000 [==============================] - 7s 1ms/step - loss: 1.1342 - accuracy: 0.5762 - val_loss: 1.0663 - val_accuracy: 0.5976\n",
      "Epoch 22/30\n",
      "6000/6000 [==============================] - 7s 1ms/step - loss: 1.0758 - accuracy: 0.6083 - val_loss: 1.0625 - val_accuracy: 0.6205\n",
      "Epoch 23/30\n",
      "6000/6000 [==============================] - 7s 1ms/step - loss: 1.0904 - accuracy: 0.5980 - val_loss: 1.0561 - val_accuracy: 0.6173\n",
      "Epoch 24/30\n",
      "6000/6000 [==============================] - 7s 1ms/step - loss: 1.0962 - accuracy: 0.5885 - val_loss: 1.0647 - val_accuracy: 0.5965\n",
      "Epoch 25/30\n",
      "6000/6000 [==============================] - 7s 1ms/step - loss: 1.0613 - accuracy: 0.6095 - val_loss: 1.0297 - val_accuracy: 0.6137\n",
      "Epoch 26/30\n",
      "6000/6000 [==============================] - 8s 1ms/step - loss: 1.0625 - accuracy: 0.6084 - val_loss: 0.9971 - val_accuracy: 0.6696\n",
      "Epoch 27/30\n",
      "6000/6000 [==============================] - 7s 1ms/step - loss: 1.1048 - accuracy: 0.5902 - val_loss: 1.0641 - val_accuracy: 0.6073\n",
      "Epoch 28/30\n",
      "6000/6000 [==============================] - 7s 1ms/step - loss: 1.1238 - accuracy: 0.5852 - val_loss: 1.1095 - val_accuracy: 0.5845\n",
      "Epoch 29/30\n",
      "6000/6000 [==============================] - 7s 1ms/step - loss: 1.1117 - accuracy: 0.5848 - val_loss: 1.0300 - val_accuracy: 0.6293\n",
      "Epoch 30/30\n",
      "6000/6000 [==============================] - 7s 1ms/step - loss: 1.0322 - accuracy: 0.6303 - val_loss: 1.0120 - val_accuracy: 0.6461\n"
     ]
    }
   ],
   "source": [
    "history = model.fit(x_trainv, y_trainc,\n",
    "                    batch_size=batch_size,\n",
    "                    epochs=epochs,\n",
    "                    verbose=1,\n",
    "                    validation_data=(x_testv, y_testc)\n",
    "                    )"
   ]
  },
  {
   "cell_type": "code",
   "execution_count": 68,
   "metadata": {},
   "outputs": [
    {
     "name": "stdout",
     "output_type": "stream",
     "text": [
      "313/313 [==============================] - 0s 943us/step - loss: 1.0120 - accuracy: 0.6461\n",
      "[1.0119953155517578, 0.6460999846458435]\n",
      "313/313 [==============================] - 0s 866us/step\n",
      "(10000, 10)\n",
      "[0.7935952  0.5304492  0.9491739  0.94368374 0.02467251 0.9264117\n",
      " 0.9426309  0.00799282 0.5034562  0.0336527 ]\n",
      "resultado correcto:\n",
      "[0. 0. 1. 0. 0. 0. 0. 0. 0. 0.]\n"
     ]
    }
   ],
   "source": [
    "score = model.evaluate(x_testv, y_testc, verbose=1) #evaluar la eficiencia del modelo\n",
    "print(score)\n",
    "a=model.predict(x_testv) #predicción de la red entrenada\n",
    "print(a.shape)\n",
    "print(a[1])\n",
    "print(\"resultado correcto:\")\n",
    "print(y_testc[1])"
   ]
  }
 ],
 "metadata": {
  "kernelspec": {
   "display_name": "Python 3 (ipykernel)",
   "language": "python",
   "name": "python3"
  },
  "language_info": {
   "codemirror_mode": {
    "name": "ipython",
    "version": 3
   },
   "file_extension": ".py",
   "mimetype": "text/x-python",
   "name": "python",
   "nbconvert_exporter": "python",
   "pygments_lexer": "ipython3",
   "version": "3.10.8"
  },
  "orig_nbformat": 4
 },
 "nbformat": 4,
 "nbformat_minor": 2
}
