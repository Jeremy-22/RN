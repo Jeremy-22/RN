{
 "cells": [
  {
   "cell_type": "code",
   "execution_count": 1,
   "metadata": {},
   "outputs": [],
   "source": [
    "import random\n",
    "import numpy as np\n",
    "\n",
    "class Network(object):               # clase del objeto con argumneto su herencia, es decir,  \n",
    "                                     #como primer padre una misma clase: la clase Object.\n",
    "\n",
    "    def __init__(self, sizes):       #se define la función init (como atributo privado) con primer argumento \"self\" (Es una \n",
    "                                     #variable especial de sólo lectura que proporciona Python), y\n",
    "                                     # como segundo argumento algún parametro o objeto, en nuestro caso sizes \n",
    "        self.num_layers = len(sizes) # se toma al objeto num_layer(número de capas) dentro del objeto self\n",
    "                                     # y se le asigna devolver el número de objetos dentro del objeto sizes\n",
    "        self.sizes = sizes           #atributo publico\n",
    "        self.biases = [np.random.randn(y, 1) for y in sizes[1:]]# np.np.randm.randn(y, 1) nos da una matriz aleatoria de 1 columna,\n",
    "                          #y for y in sizes[1:] es para hacer operaciones sobre listas (lista guardada en sizes)  \n",
    "                          # y tandra el mismo tamañno de elementos de \"y\" cok la lista de sizes \n",
    "        self.weights = [np.random.randn(y, x) # para llamar una lista se usan [] \n",
    "                        for x, y in zip(sizes[:-1], sizes[1:])]"
   ]
  },
  {
   "cell_type": "code",
   "execution_count": 2,
   "metadata": {},
   "outputs": [],
   "source": [
    "#net = Network([2, 3, 1])\n",
    "def sigmoid(z):\n",
    "    return 1.0/(1.0+np.exp(-z))"
   ]
  },
  {
   "cell_type": "code",
   "execution_count": 3,
   "metadata": {},
   "outputs": [],
   "source": [
    " def feedforward(self, a): #feed#feedforward es para evaluar la red \n",
    "        \"\"\"Return the output of the network if \"a\" is input.\"\"\"\n",
    "        for b, w in zip(self.biases, self.weights):# pega dos lostas, de elemento a elemneto \n",
    "            a = sigmoid(np.dot(w, a)+b)#nos dcapa  vector de las activaciones, y estesto lo hace haciendo ciclos hasta ultima capa\n",
    "        return a# nos regresa la ultima capa"
   ]
  },
  {
   "cell_type": "code",
   "execution_count": null,
   "metadata": {},
   "outputs": [],
   "source": [
    "def SGD(self, training_data, epochs, mini_batch_size, eta,\n",
    "            test_data=None):#\n",
    "     #   \"\"\"Train the neural network using mini-batch stochastic\n",
    "      #  gradient descent.  The \"training_data\" is a list of tuples\n",
    "       # \"(x, y)\" representing the training inputs and the desired\n",
    "        #outputs.  The other non-optional parameters are\n",
    "        #self-explanatory.  If \"test_data\" is provided then the\n",
    "        #network will be evaluated against the test data after each\n",
    "        #epoch, and partial progress printed out.  This is useful for\n",
    "        #tracking progress, but slows things down substantially.\"\"\"\n",
    "        if test_data: n_test = len(test_data) \n",
    "        n = len(training_data)\n",
    "        \n",
    "        for j in xrange(epochs):# varajear los elemntos delista lista\n",
    "            random.shuffle(training_data)\n",
    "            mini_batches = [\n",
    "                training_data[k:k+mini_batch_size]#del renglon k al k+mini_mini_batch_size \n",
    "                for k in xrange(0, n, mini_batch_size)]# me genera unaserie a que va de 0 a n pero saltando mini-bach-mini-bach-sizes hasta el siguiente numero de la serie\n",
    "            for mini_batch in mini_batches:#itera los elmentos sobre una lista, es decir, en mini_batch hay una lista de los mini_mini_batch\n",
    "                             #se calculan las derivadas dentro de esta función \n",
    "                self.update_mini_batch(mini_batch, eta)\n",
    "            if test_data:#si hay datos de prueba se imprime \n",
    "                print\"Epoch {0}: {1} / {2}\".format(\n",
    "                j, self.evaluate(test_data), n_test) #evalua los datos de prueba y hace el promedio de la evidencia de los datos de prueba\n",
    "                           # (eepoch) \n",
    "            else:\n",
    "                print \"Epoch {0} complete\".format(j)"
   ]
  },
  {
   "cell_type": "code",
   "execution_count": 2,
   "metadata": {},
   "outputs": [],
   "source": [
    "    def update_mini_batch(self, mini_batch, eta): \n",
    "        \"\"\"Update the network's weights and biases by applying\n",
    "        gradient descent using backpropagation to a single mini batch.\n",
    "        The \"mini_batch\" is a list of tuples \"(x, y)\", and \"eta\"\n",
    "        is the learning rate.\"\"\"\n",
    "        nabla_b = [np.zeros(b.shape) for b in self.biases]\n",
    "        nabla_w = [np.zeros(w.shape) for w in self.weights]\n",
    "        for x, y in mini_batch:\n",
    "            delta_nabla_b, delta_nabla_w = self.backprop(x, y)\n",
    "            nabla_b = [nb+dnb for nb, dnb in zip(nabla_b, delta_nabla_b)]\n",
    "            nabla_w = [nw+dnw for nw, dnw in zip(nabla_w, delta_nabla_w)]\n",
    "        self.weights = [w-(eta/len(mini_batch))*nw \n",
    "                        for w, nw in zip(self.weights, nabla_w)]\n",
    "        self.biases = [b-(eta/len(mini_batch))*nb \n",
    "                       for b, nb in zip(self.biases, nabla_b)]\n"
   ]
  }
 ],
 "metadata": {
  "kernelspec": {
   "display_name": "Python 3 (ipykernel)",
   "language": "python",
   "name": "python3"
  },
  "language_info": {
   "codemirror_mode": {
    "name": "ipython",
    "version": 3
   },
   "file_extension": ".py",
   "mimetype": "text/x-python",
   "name": "python",
   "nbconvert_exporter": "python",
   "pygments_lexer": "ipython3",
   "version": "3.10.8"
  },
  "orig_nbformat": 4
 },
 "nbformat": 4,
 "nbformat_minor": 2
}
